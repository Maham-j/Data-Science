{
 "cells": [
  {
   "cell_type": "code",
   "execution_count": 15,
   "id": "97df674e",
   "metadata": {
    "scrolled": true
   },
   "outputs": [
    {
     "name": "stdout",
     "output_type": "stream",
     "text": [
      "4\n",
      "23\n",
      "6\n",
      "Positive root -0.2739184941643984\n",
      "Negative root -5.476081505835602\n"
     ]
    }
   ],
   "source": [
    "a=int(input())\n",
    "b=int(input())\n",
    "c=int(input())\n",
    "\n",
    "dis = (b**2)-(4*a*c)\n",
    "positive = (-b + dis**0.5) / (2*a)\n",
    "negative = (-b - dis**0.5) / (2*a)\n",
    "\n",
    "if a==0:\n",
    "    print('equation is linear has only one root')\n",
    "if dis <0:\n",
    "    print(f'roots are imaginary')\n",
    "else:\n",
    "    print('Positive root',positive)\n",
    "    print('Negative root',negative)\n",
    "\n",
    "\n",
    "\n"
   ]
  },
  {
   "cell_type": "code",
   "execution_count": 27,
   "id": "76b873f7",
   "metadata": {},
   "outputs": [
    {
     "name": "stdout",
     "output_type": "stream",
     "text": [
      "4\n",
      "5\n",
      "6\n",
      "Winner\n",
      "The number is 6\n"
     ]
    }
   ],
   "source": [
    "from random import*\n",
    "\n",
    "number= randint(1,10)\n",
    "i=1\n",
    "while i<=3:\n",
    "    guess = int(input())\n",
    "    if guess == number:\n",
    "        print('Winner')\n",
    "        print('The number is',number)\n",
    "        break\n",
    "    i+=1\n",
    "    \n",
    "if i >3:\n",
    "    print('Looser')\n",
    "    print('The number was',number)\n",
    "    \n"
   ]
  },
  {
   "cell_type": "code",
   "execution_count": 25,
   "id": "b7ec354e",
   "metadata": {},
   "outputs": [
    {
     "name": "stdout",
     "output_type": "stream",
     "text": [
      "77\n",
      "23\n",
      "0\n",
      "12\n",
      "0 12 23 77\n"
     ]
    }
   ],
   "source": [
    "a = int(input())\n",
    "b = int(input())\n",
    "c = int(input())\n",
    "d = int(input())\n",
    "\n",
    "if a > b:\n",
    "    a,b = b,a\n",
    "if b > c:\n",
    "    b,c = c,b\n",
    "if c > d:\n",
    "    c,d = d,c\n",
    "if a > b:\n",
    "    a,b = b,a\n",
    "if b > c:\n",
    "    b,c = c,b\n",
    "if a > b:\n",
    "    a,b = b,a\n",
    "print(a,b,c,d)"
   ]
  },
  {
   "cell_type": "code",
   "execution_count": 51,
   "id": "60518f3f",
   "metadata": {},
   "outputs": [
    {
     "name": "stdout",
     "output_type": "stream",
     "text": [
      "21\n",
      "The required_packs are  4\n"
     ]
    }
   ],
   "source": [
    "pack = 6\n",
    "total = int(input())\n",
    "\n",
    "remaining = total % pack\n",
    "if remaining == 0:\n",
    "    print('The required_packs are ',total//pack)\n",
    "else:\n",
    "    packs = total//pack\n",
    "    required_packs = packs +1\n",
    "    print('The required_packs are ',required_packs)"
   ]
  },
  {
   "cell_type": "code",
   "execution_count": 60,
   "id": "1a820210",
   "metadata": {},
   "outputs": [
    {
     "name": "stdout",
     "output_type": "stream",
     "text": [
      "123\n",
      "459\n",
      "669\n",
      "Numbers are in order\n"
     ]
    }
   ],
   "source": [
    "a = int(input())\n",
    "b = int(input())\n",
    "c = int(input())\n",
    "if c > b and b > a :\n",
    "    print('Numbers are in order')\n",
    "else:\n",
    "    print('Numbers are not in order')"
   ]
  },
  {
   "cell_type": "code",
   "execution_count": 64,
   "id": "0f30776a",
   "metadata": {},
   "outputs": [
    {
     "name": "stdout",
     "output_type": "stream",
     "text": [
      "823\n",
      "459\n",
      "669\n",
      "459 669 823\n"
     ]
    }
   ],
   "source": [
    "a = int(input())\n",
    "b = int(input())\n",
    "c = int(input())\n",
    "\n",
    "if a > b:\n",
    "    a,b = b,a\n",
    "if b > c:\n",
    "    b,c = c,b\n",
    "if a > b:\n",
    "    a,b = b,a\n",
    "print(a,b,c)\n"
   ]
  },
  {
   "cell_type": "code",
   "execution_count": 70,
   "id": "fa8c2d68",
   "metadata": {},
   "outputs": [
    {
     "name": "stdout",
     "output_type": "stream",
     "text": [
      "Enter the marks: 73\n",
      "Enter the marks: 83\n",
      "B+\n",
      "A+\n",
      "Different grades\n"
     ]
    }
   ],
   "source": [
    "marks_01 = int(input(\"Enter the marks: \"))\n",
    "marks_02 = int(input(\"Enter the marks: \"))  \n",
    "\n",
    "if 80 <= marks_01 <= 84:\n",
    "    print('A+')\n",
    "    \n",
    "elif 75 <= marks_01 <= 79:\n",
    "    print('A')\n",
    "\n",
    "elif 70 <= marks_01 <= 74:\n",
    "    print('B+')\n",
    "\n",
    "elif 65 <= marks_01 <= 69:\n",
    "    print('B')\n",
    "\n",
    "elif 61 <= marks_01 <= 64:\n",
    "    print('C+')\n",
    "\n",
    "elif 58 <= marks_01 <= 60:\n",
    "    print('C')\n",
    "\n",
    "elif 55 <= marks_01 <= 57:\n",
    "    print('C')\n",
    "\n",
    "elif 50 <= marks_01 <= 54:\n",
    "    print('D')\n",
    "\n",
    "else:\n",
    "    print('F')\n",
    "\n",
    "if 80 <= marks_02 <= 84:\n",
    "    print('A+')\n",
    "    \n",
    "elif 75 <= marks_02 <= 79:\n",
    "    print('A')\n",
    "\n",
    "elif 70 <= marks_02 <= 74:\n",
    "    print('B+')\n",
    "\n",
    "elif 65 <= marks_02 <= 69:\n",
    "    print('B')\n",
    "\n",
    "elif 61 <= marks_02 <= 64:\n",
    "    print('C+')\n",
    "\n",
    "elif 58 <= marks_02 <= 60:\n",
    "    print('C')\n",
    "\n",
    "elif 55 <= marks_02 <= 57:\n",
    "    print('C')\n",
    "\n",
    "elif 50 <= marks_02 <= 54:\n",
    "    print('D')\n",
    "\n",
    "else:\n",
    "    print('F')\n",
    "\n",
    "if marks_01 == marks_02:\n",
    "    print('Same grades')\n",
    "else:\n",
    "    print('Different grades')\n"
   ]
  },
  {
   "cell_type": "code",
   "execution_count": null,
   "id": "de3c70fc",
   "metadata": {},
   "outputs": [],
   "source": [
    "#Loop section"
   ]
  },
  {
   "cell_type": "code",
   "execution_count": 81,
   "id": "f2d6841e",
   "metadata": {},
   "outputs": [
    {
     "name": "stdout",
     "output_type": "stream",
     "text": [
      "Even:2 4 6 8 10 12 14 16 18 20 22 24 26 28 30 32 34 36 38 40 42 44 46 48 50 \n",
      "Odd:1 3 5 7 9 11 13 15 17 19 21 23 25 27 29 31 33 35 37 39 41 43 45 47 49 "
     ]
    }
   ],
   "source": [
    "print('Even:',end='')\n",
    "i = 2\n",
    "while i <= 50:\n",
    "    if i%2 == 0:\n",
    "        print(i,end=' ')\n",
    "    i += 1\n",
    "    \n",
    "print()\n",
    "print('Odd:',end='')\n",
    "i = 1\n",
    "while i <= 49:\n",
    "    if i%2 != 0:\n",
    "        print(i,end=' ')\n",
    "    i += 1"
   ]
  },
  {
   "cell_type": "code",
   "execution_count": 82,
   "id": "4d31ca2c",
   "metadata": {},
   "outputs": [
    {
     "name": "stdout",
     "output_type": "stream",
     "text": [
      "enter a number: 2\n",
      "enter a number: 3\n",
      "enter a number: 1\n",
      "enter a number: 5\n",
      "enter a number: 6\n",
      "Product:  180\n"
     ]
    }
   ],
   "source": [
    "a = int(input('enter a number: '))\n",
    "b = int(input('enter a number: '))\n",
    "c = int(input('enter a number: '))\n",
    "d = int(input('enter a number: '))\n",
    "e = int(input('enter a number: '))\n",
    "product = a*b*c*d*e\n",
    "print('Product: ',product)"
   ]
  },
  {
   "cell_type": "code",
   "execution_count": 83,
   "id": "d69fbd62",
   "metadata": {},
   "outputs": [
    {
     "name": "stdout",
     "output_type": "stream",
     "text": [
      "enter a number: 2\n",
      "enter a number: 3\n",
      "enter a number: 1\n",
      "enter a number: 6\n",
      "enter a number: 5\n",
      "Maximum: 6\n"
     ]
    }
   ],
   "source": [
    "a = int(input('enter a number: '))\n",
    "b = int(input('enter a number: '))\n",
    "c = int(input('enter a number: '))\n",
    "d = int(input('enter a number: '))\n",
    "e = int(input('enter a number: '))\n",
    "maxi = a\n",
    "if b > maxi:\n",
    "    maxi = b\n",
    "if c > maxi:\n",
    "    maxi = c\n",
    "if d > maxi:\n",
    "    maxi = d\n",
    "if e > maxi:\n",
    "    maxi = e\n",
    "    \n",
    "print('Maximum:',maxi)\n"
   ]
  },
  {
   "cell_type": "code",
   "execution_count": 96,
   "id": "81f9e094",
   "metadata": {},
   "outputs": [
    {
     "name": "stdout",
     "output_type": "stream",
     "text": [
      "First: 57\n",
      "Second :43\n",
      "First number is larger\n",
      "First: 66\n",
      "Second :74\n",
      "Second number is larger\n",
      "First: 60\n",
      "Second :26\n",
      "First number is larger\n",
      "First: 65\n",
      "Second :55\n",
      "First number is larger\n",
      "First: 45\n",
      "Second :25\n",
      "First number is larger\n",
      "First: 91\n",
      "Second :53\n",
      "First number is larger\n",
      "First: 30\n",
      "Second :36\n",
      "Second number is larger\n",
      "First: 71\n",
      "Second :50\n",
      "First number is larger\n",
      "First: 74\n",
      "Second :61\n",
      "First number is larger\n",
      "First: 68\n",
      "Second :75\n",
      "Second number is larger\n"
     ]
    }
   ],
   "source": [
    "from random import*\n",
    "\n",
    "for i in range(10):\n",
    "    a = randint(20,100)\n",
    "    b = randint(20,100)\n",
    "    if a>b:\n",
    "        print(f'First: {a}\\nSecond :{b}\\nFirst number is larger')\n",
    "    else:\n",
    "        print(f'First: {a}\\nSecond :{b}\\nSecond number is larger')"
   ]
  },
  {
   "cell_type": "code",
   "execution_count": 101,
   "id": "69d2b4d4",
   "metadata": {},
   "outputs": [
    {
     "name": "stdout",
     "output_type": "stream",
     "text": [
      "Original: 49 35 28\n",
      "Sorted: 28 35 49\n",
      "Original: 93 73 93\n",
      "Sorted: 73 93 93\n",
      "Original: 85 57 33\n",
      "Sorted: 33 57 85\n",
      "Original: 48 49 97\n",
      "Sorted: 48 49 97\n",
      "Original: 21 91 51\n",
      "Sorted: 21 51 91\n",
      "Original: 59 37 53\n",
      "Sorted: 37 53 59\n",
      "Original: 74 72 28\n",
      "Sorted: 28 72 74\n",
      "Original: 33 25 70\n",
      "Sorted: 25 33 70\n",
      "Original: 69 43 23\n",
      "Sorted: 23 43 69\n",
      "Original: 90 65 88\n",
      "Sorted: 65 88 90\n"
     ]
    }
   ],
   "source": [
    "from random import*\n",
    "\n",
    "for i in range(10):\n",
    "    a = randint(20,100)\n",
    "    b = randint(20,100)\n",
    "    c = randint(20,100)  \n",
    "    print('Original:',a,b,c)\n",
    "    if a > b:\n",
    "        a,b = b,a\n",
    "    if b > c:\n",
    "        b,c = c,b\n",
    "    if a > b:\n",
    "        a,b = b,a\n",
    "    print('Sorted:',a,b,c)"
   ]
  },
  {
   "cell_type": "code",
   "execution_count": null,
   "id": "0423032c",
   "metadata": {},
   "outputs": [],
   "source": [
    "#function section"
   ]
  },
  {
   "cell_type": "code",
   "execution_count": 130,
   "id": "755deb21",
   "metadata": {},
   "outputs": [
    {
     "name": "stdout",
     "output_type": "stream",
     "text": [
      "Geometric Sequence: 2 6 18 54 162 "
     ]
    }
   ],
   "source": [
    "def print_geometric_sequence(start, common_ratio, count):\n",
    "    sequence = [start]\n",
    "\n",
    "    for _ in range(count - 1):\n",
    "        next_term = sequence[-1] * common_ratio\n",
    "        sequence.append(next_term)\n",
    "\n",
    "    print(\"Geometric Sequence:\",end=' ')\n",
    "    for term in sequence:\n",
    "        print(term,end=' ')\n",
    "\n",
    "# Test the function with an example\n",
    "start_number = 2\n",
    "ratio = 3\n",
    "count_of_numbers = 5\n",
    "print_geometric_sequence(start_number, ratio, count_of_numbers)\n"
   ]
  },
  {
   "cell_type": "code",
   "execution_count": 131,
   "id": "178170c6",
   "metadata": {},
   "outputs": [
    {
     "name": "stdout",
     "output_type": "stream",
     "text": [
      "Geometric Series Sum: 242.0\n"
     ]
    }
   ],
   "source": [
    "def geometric_series_sum(start, common_ratio, count):\n",
    "    series_sum = start * (1 - common_ratio**count) / (1 - common_ratio)\n",
    "    return series_sum\n",
    "\n",
    "# Test the function with an example\n",
    "start_number = 2\n",
    "ratio = 3\n",
    "count_of_numbers = 5\n",
    "result = geometric_series_sum(start_number, ratio, count_of_numbers)\n",
    "print(f\"Geometric Series Sum: {result}\")\n"
   ]
  },
  {
   "cell_type": "code",
   "execution_count": 132,
   "id": "434c34ac",
   "metadata": {},
   "outputs": [
    {
     "name": "stdout",
     "output_type": "stream",
     "text": [
      "Fermat(0) = 3\n",
      "Fermat(1) = 5\n",
      "Fermat(2) = 17\n",
      "Fermat(3) = 257\n",
      "Fermat(4) = 65537\n",
      "Fermat(5) = 4294967297\n",
      "Fermat(6) = 18446744073709551617\n",
      "Fermat(7) = 340282366920938463463374607431768211457\n",
      "Fermat(8) = 115792089237316195423570985008687907853269984665640564039457584007913129639937\n",
      "Fermat(9) = 13407807929942597099574024998205846127479365820592393377723561443721764030073546976801874298166903427690031858186486050853753882811946569946433649006084097\n"
     ]
    }
   ],
   "source": [
    "def fermat_number(n):\n",
    "    if n < 0:\n",
    "        return \"N must be non-negative\"\n",
    "    return 2**(2**n) + 1\n",
    "\n",
    "# Test the function with examples\n",
    "for n in range(10):  # Test the function for the first 10 Fermat numbers\n",
    "    result = fermat_number(n)\n",
    "    print(f\"Fermat({n}) = {result}\")\n"
   ]
  },
  {
   "cell_type": "code",
   "execution_count": 134,
   "id": "afe67119",
   "metadata": {},
   "outputs": [
    {
     "name": "stdout",
     "output_type": "stream",
     "text": [
      "Calculated GPA: 2.4\n"
     ]
    }
   ],
   "source": [
    "# Input letter grades for each subject\n",
    "pf_grade = \"A\"\n",
    "pflab_grade = \"B\"\n",
    "pst_grade = \"C\"\n",
    "iict_grade = \"D\"\n",
    "iictlab_grade = \"E\"\n",
    "ecc_grade = \"F\"\n",
    "qt_grade = \"W\"\n",
    "\n",
    "# Define credit hours and grade points for each subject\n",
    "credit_hours = [3, 1, 2, 2, 1, 3, 0.5]\n",
    "grade_points = [5, 4, 3, 2, 1, 0, 0]  # Note that \"W\" is considered as 0 grade points\n",
    "\n",
    "# Calculate the weighted sum of grade points\n",
    "weighted_sum = sum(credit_hours[i] * grade_points[i] for i in range(len(credit_hours)))\n",
    "\n",
    "# Calculate the total credit hours\n",
    "total_credit_hours = sum(credit_hours)\n",
    "\n",
    "# Calculate the GPA\n",
    "if total_credit_hours == 0:\n",
    "    print(\"Cannot calculate GPA, total credit hours are zero.\")\n",
    "else:\n",
    "    gpa = weighted_sum / total_credit_hours\n",
    "    print(f\"Calculated GPA: {gpa}\")\n"
   ]
  },
  {
   "cell_type": "code",
   "execution_count": null,
   "id": "08ae225c",
   "metadata": {},
   "outputs": [],
   "source": [
    "#array section"
   ]
  },
  {
   "cell_type": "code",
   "execution_count": 113,
   "id": "9093b0ba",
   "metadata": {},
   "outputs": [
    {
     "name": "stdout",
     "output_type": "stream",
     "text": [
      "5\n",
      "1\n",
      "2\n",
      "3\n",
      "4\n",
      "5\n",
      "[1, 2, 3, 4, 5]\n",
      "[5, 4, 3, 2, 1]\n"
     ]
    }
   ],
   "source": [
    "n = int(input())\n",
    "\n",
    "numbers = []\n",
    "\n",
    "for i in range(n):\n",
    "    num = int(input())\n",
    "    numbers.append(num)  \n",
    "print(numbers)\n",
    "\n",
    "for _ in range(len(numbers)):\n",
    "    for i in range(1, len(numbers)):\n",
    "        if numbers[i] > numbers[i - 1]:\n",
    "            numbers[i], numbers[i - 1] = numbers[i - 1], numbers[i]\n",
    "\n",
    "print(numbers)\n"
   ]
  },
  {
   "cell_type": "code",
   "execution_count": 115,
   "id": "49d022e7",
   "metadata": {},
   "outputs": [
    {
     "name": "stdout",
     "output_type": "stream",
     "text": [
      "5\n",
      "7\n",
      "3\n",
      "1\n",
      "6\n",
      "0\n",
      "[7, 3, 1, 6, 0]\n",
      "Maximum: 7\n",
      "Minimum: 0\n"
     ]
    }
   ],
   "source": [
    "n = int(input())\n",
    "\n",
    "numbers = []\n",
    "maxi = -999\n",
    "mini = 999\n",
    "\n",
    "for i in range(n):\n",
    "    num = int(input())\n",
    "    numbers.append(num)\n",
    "    if num > maxi:\n",
    "        maxi = num\n",
    "        \n",
    "    if num < mini:\n",
    "        mini = num\n",
    "        \n",
    "print(numbers)\n",
    "print('Maximum:',maxi)\n",
    "print('Minimum:',mini)"
   ]
  },
  {
   "cell_type": "code",
   "execution_count": 118,
   "id": "bff796ec",
   "metadata": {},
   "outputs": [
    {
     "name": "stdout",
     "output_type": "stream",
     "text": [
      "4\n",
      "1\n",
      "2\n",
      "3\n",
      "4\n",
      "1\n",
      "2\n",
      "3\n",
      "4\n",
      "Array_1: [1, 2, 3, 4]\n",
      "Array_2: [1, 2, 3, 4]\n",
      "Products: [1, 4, 9, 16]\n"
     ]
    }
   ],
   "source": [
    "n = int(input())\n",
    "\n",
    "array_1 = []\n",
    "array_2 = []\n",
    "products = []\n",
    "\n",
    "for i in range(n):\n",
    "    num = int(input())\n",
    "    array_1.append(num)  \n",
    "\n",
    "for i in range(n):\n",
    "    num = int(input())\n",
    "    array_2.append(num)\n",
    "    \n",
    "    product = array_1[i]* array_2[i]\n",
    "    products.append(product)\n",
    "    \n",
    "print('Array_1:',array_1)\n",
    "print('Array_2:',array_2)\n",
    "print('Products:',products)"
   ]
  },
  {
   "cell_type": "code",
   "execution_count": 121,
   "id": "150de5b4",
   "metadata": {},
   "outputs": [
    {
     "name": "stdout",
     "output_type": "stream",
     "text": [
      "Enter the number of elements: 4\n",
      "1\n",
      "2\n",
      "3\n",
      "4\n",
      "Original array: [1, 2, 3, 4]\n",
      "Reversed array: [4, 3, 2, 1]\n"
     ]
    }
   ],
   "source": [
    "n = int(input(\"Enter the number of elements: \"))\n",
    "\n",
    "numbers = []\n",
    "\n",
    "for i in range(n):\n",
    "    num = int(input())\n",
    "    numbers.append(num)\n",
    "    \n",
    "print(\"Original array:\",numbers)\n",
    "\n",
    "for i in range(n // 2):\n",
    "    numbers[i], numbers[n - 1 - i] = numbers[n - 1 - i], numbers[i]\n",
    "\n",
    "print(\"Reversed array:\",numbers)\n"
   ]
  },
  {
   "cell_type": "code",
   "execution_count": null,
   "id": "d9964685",
   "metadata": {},
   "outputs": [],
   "source": []
  }
 ],
 "metadata": {
  "kernelspec": {
   "display_name": "Python 3 (ipykernel)",
   "language": "python",
   "name": "python3"
  },
  "language_info": {
   "codemirror_mode": {
    "name": "ipython",
    "version": 3
   },
   "file_extension": ".py",
   "mimetype": "text/x-python",
   "name": "python",
   "nbconvert_exporter": "python",
   "pygments_lexer": "ipython3",
   "version": "3.9.13"
  }
 },
 "nbformat": 4,
 "nbformat_minor": 5
}
