{
 "cells": [
  { 
   "cell_type": "markdown",
   "id": "f78699d4",
   "metadata": {},
   "source": [
    "# Task 01 E-Commerce data processing" 
   ]
  },
  {
   "cell_type": "markdown",
   "id": "83d26275",
   "metadata": {},
   "source": [
    "## Part A: Data Validation"
   ]
  },
  {
   "cell_type": "code",
   "execution_count": 10,
   "id": "19b9af9e",
   "metadata": {},
   "outputs": [
    {
     "name": "stdout",
     "output_type": "stream",
     "text": [
      "[{'customer': 'Alice', 'total': 250.5}, {'customer': 'Charlie', 'total': 450}, {'customer': 'Daisy', 'total': 100.0}]\n"
     ]
    }
   ],
   "source": [
    "orders = [\n",
    "    {\"customer\": \"Alice\", \"total\": 250.5},\n",
    "    {\"customer\": \"Bob\", \"total\": \"invalid_data\"},\n",
    "    {\"customer\": \"Charlie\", \"total\": 450},\n",
    "    {\"customer\": \"Daisy\", \"total\": 100.0},\n",
    "    {\"customer\": \"Eve\", \"total\": -30},  # Invalid total\n",
    "]\n",
    "\n",
    "# Function to validate orders\n",
    "def validate_orders(orders):\n",
    "    # Filter valid orders where total is a number and not negative\n",
    "    valid_orders = filter(\n",
    "        lambda order: isinstance(order['total'], (int, float)) and order['total'] >= 0,\n",
    "        orders\n",
    "    )\n",
    "    return list(valid_orders)  # Convert filter object to list\n",
    "\n",
    "valid_orders = validate_orders(orders)  # Get the list of valid orders\n",
    "print(valid_orders)  # Output the valid orders\n"
   ]
  },
  {
   "cell_type": "markdown",
   "id": "cdd95b18",
   "metadata": {},
   "source": [
    "## Part B: Discount Application"
   ]
  },
  {
   "cell_type": "code",
   "execution_count": 2,
   "id": "02c66479",
   "metadata": {},
   "outputs": [
    {
     "name": "stdout",
     "output_type": "stream",
     "text": [
      "[{'customer': 'Alice', 'total': 250.5}, {'customer': 'Charlie', 'total': 405.0}, {'customer': 'Daisy', 'total': 100.0}]\n"
     ]
    }
   ],
   "source": [
    "# Function to apply a 10% discount on orders above $300\n",
    "def apply_discount(order_list):\n",
    "    # Lambda function with map to apply the discount\n",
    "    discounted_orders = map(\n",
    "        lambda order: {\"customer\": order[\"customer\"], \n",
    "                       \"total\": order[\"total\"] * 0.9 if order[\"total\"] > 300 else order[\"total\"]}, \n",
    "        order_list\n",
    "    )\n",
    "    return list(discounted_orders)  # Converting map object to list\n",
    "\n",
    "# Applying discount to valid orders\n",
    "discounted_orders = apply_discount(valid_orders)\n",
    "print(discounted_orders)\n"
   ]
  },
  {
   "cell_type": "markdown",
   "id": "44448c8e",
   "metadata": {},
   "source": [
    "## Part C: Total Sales Calculation"
   ]
  },
  {
   "cell_type": "code",
   "execution_count": 3,
   "id": "b377a9e5",
   "metadata": {},
   "outputs": [
    {
     "name": "stdout",
     "output_type": "stream",
     "text": [
      "755.5\n"
     ]
    }
   ],
   "source": [
    "from functools import reduce\n",
    "\n",
    "# Function to calculate the total sales using reduce\n",
    "def calculate_total_sales(order_list):\n",
    "    total_sales = reduce(\n",
    "        lambda acc, order: acc + order[\"total\"], \n",
    "        order_list, \n",
    "        0  # Starting value is 0\n",
    "    )\n",
    "    return total_sales\n",
    "\n",
    "# Calculating the total sales\n",
    "total_sales = calculate_total_sales(discounted_orders)\n",
    "print(total_sales)\n"
   ]
  },
  {
   "cell_type": "markdown",
   "id": "22b874cb",
   "metadata": {},
   "source": [
    "# Task 2: Iterator and Generator"
   ]
  },
  {
   "cell_type": "markdown",
   "id": "9a701dd4",
   "metadata": {},
   "source": [
    "## Part A: Custom Iterator"
   ]
  },
  {
   "cell_type": "code",
   "execution_count": 4,
   "id": "a5640aed",
   "metadata": {},
   "outputs": [
    {
     "name": "stdout",
     "output_type": "stream",
     "text": [
      "1\n",
      "4\n",
      "9\n",
      "16\n",
      "25\n"
     ]
    }
   ],
   "source": [
    "# Custom iterator class to yield squares of numbers\n",
    "class SquareIterator:\n",
    "    def __init__(self, n):\n",
    "        self.n = n\n",
    "        self.current = 1  # Start from 1\n",
    "\n",
    "    def __iter__(self):\n",
    "        return self\n",
    "\n",
    "    def __next__(self):\n",
    "        if self.current <= self.n:\n",
    "            square = self.current ** 2\n",
    "            self.current += 1\n",
    "            return square\n",
    "        else:\n",
    "            raise StopIteration  # Stop the iteration\n",
    "\n",
    "# Using the custom iterator\n",
    "square_iterator = SquareIterator(5)\n",
    "for square in square_iterator:\n",
    "    print(square)\n"
   ]
  },
  {
   "cell_type": "markdown",
   "id": "206e6097",
   "metadata": {},
   "source": [
    "## Part B: Fibonacci Generator "
   ]
  },
  {
   "cell_type": "code",
   "execution_count": 5,
   "id": "9c30b500",
   "metadata": {},
   "outputs": [
    {
     "name": "stdout",
     "output_type": "stream",
     "text": [
      "0\n",
      "1\n",
      "1\n",
      "2\n",
      "3\n",
      "5\n",
      "8\n"
     ]
    }
   ],
   "source": [
    "# Generator function to yield Fibonacci sequence up to n\n",
    "def fibonacci_generator(n):\n",
    "    a, b = 0, 1  # Starting values for Fibonacci\n",
    "    while a <= n:\n",
    "        yield a\n",
    "        a, b = b, a + b  # Moving to the next Fibonacci number\n",
    "\n",
    "# Using the Fibonacci generator\n",
    "for num in fibonacci_generator(10):\n",
    "    print(num)\n"
   ]
  },
  {
   "cell_type": "markdown",
   "id": "b5bb14b1",
   "metadata": {},
   "source": [
    "# Task 3: Exception Handling and Function Decorator "
   ]
  },
  {
   "cell_type": "markdown",
   "id": "c930f8b1",
   "metadata": {},
   "source": [
    "## Part A: Chained Exceptions"
   ]
  },
  {
   "cell_type": "code",
   "execution_count": 6,
   "id": "bbb21ed4",
   "metadata": {},
   "outputs": [
    {
     "name": "stdout",
     "output_type": "stream",
     "text": [
      "Error occurred: Invalid input: Non-numeric value in list\n"
     ]
    }
   ],
   "source": [
    "# Custom exception for division by zero\n",
    "class DivisionByZeroError(Exception):\n",
    "    pass\n",
    "\n",
    "# Function to divide numbers in a list by a divisor\n",
    "def divide_numbers(numbers, divisor):\n",
    "    try:\n",
    "        # Check if divisor is zero\n",
    "        if divisor == 0:\n",
    "            raise DivisionByZeroError(\"Division by zero is not allowed\")\n",
    "        \n",
    "        # Divide each number by divisor\n",
    "        return [number / divisor for number in numbers]\n",
    "    except TypeError as e:\n",
    "        # Chaining exceptions in case of non-numeric input\n",
    "        raise ValueError(\"Invalid input: Non-numeric value in list\") from e\n",
    "\n",
    "# Example usage\n",
    "try:\n",
    "    result = divide_numbers([10, 20, \"invalid\", 40], 2)\n",
    "    print(result)\n",
    "except Exception as e:\n",
    "    print(f\"Error occurred: {e}\")\n"
   ]
  },
  {
   "cell_type": "markdown",
   "id": "640825de",
   "metadata": {},
   "source": [
    "## Part B: Exception Logging Decorator"
   ]
  },
  {
   "cell_type": "code",
   "execution_count": 7,
   "id": "86f82a13",
   "metadata": {},
   "outputs": [
    {
     "name": "stdout",
     "output_type": "stream",
     "text": [
      "Exception occurred in function divide: division by zero\n"
     ]
    }
   ],
   "source": [
    "# Decorator to log exceptions\n",
    "def exception_logging_decorator(func):\n",
    "    def wrapper(*args, **kwargs):\n",
    "        try:\n",
    "            return func(*args, **kwargs)\n",
    "        except Exception as e:\n",
    "            # Log the exception details\n",
    "            print(f\"Exception occurred in function {func.__name__}: {e}\")\n",
    "            raise  # Rethrow the exception\n",
    "    return wrapper\n",
    "\n",
    "# Example function using the decorator\n",
    "@exception_logging_decorator\n",
    "def divide(a, b):\n",
    "    return a / b\n",
    "\n",
    "# Example usage\n",
    "try:\n",
    "    divide(10, 0)\n",
    "except Exception as e:\n",
    "    pass\n"
   ]
  },
  {
   "cell_type": "code",
   "execution_count": null,
   "id": "a7f95b90",
   "metadata": {},
   "outputs": [],
   "source": []
  }
 ],
 "metadata": {
  "kernelspec": {
   "display_name": "Python 3 (ipykernel)",
   "language": "python",
   "name": "python3"
  },
  "language_info": {
   "codemirror_mode": {
    "name": "ipython",
    "version": 3
   },
   "file_extension": ".py",
   "mimetype": "text/x-python",
   "name": "python",
   "nbconvert_exporter": "python",
   "pygments_lexer": "ipython3",
   "version": "3.9.13"
  }
 },
 "nbformat": 4,
 "nbformat_minor": 5
}
