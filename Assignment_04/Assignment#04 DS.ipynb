{
 "cells": [
  {
   "cell_type": "code",
   "execution_count": 27,
   "id": "ba1a65fd",
   "metadata": {},
   "outputs": [
    {
     "name": "stdout",
     "output_type": "stream",
     "text": [
      "Temperature Data (sample):\n",
      " [24.17207924 29.48335273 22.98050643 33.08088786 28.8005004 ]\n",
      "Humidity Data (sample):\n",
      " [40.31118594 56.95749892 48.26810444 80.35134734 44.26450956]\n"
     ]
    }
   ],
   "source": [
    "#Task 01\n",
    "import numpy as np\n",
    "\n",
    "temperature_data = np.random.uniform(low=15.0, high=35.0, size=100)  # Generate temperature data\n",
    "humidity_data = np.random.uniform(low=30.0, high=90.0, size=100)      # Generate humidity data\n",
    "\n",
    "temperature_sample = temperature_data[:5]  # Sample first 5 temperatures\n",
    "humidity_sample = humidity_data[:5]        # Sample first 5 humidity values\n",
    "\n",
    "print(\"Temperature Data (sample):\\n\", temperature_sample)  # Print temperature sample\n",
    "print(\"Humidity Data (sample):\\n\", humidity_sample)        # Print humidity sample\n"
   ]
  },
  {
   "cell_type": "code",
   "execution_count": 28,
   "id": "404774a0",
   "metadata": {},
   "outputs": [
    {
     "name": "stdout",
     "output_type": "stream",
     "text": [
      "Missing Temperature Data: 5\n",
      "Missing Humidity Data: 5\n",
      "Total Missing Entries: 10\n"
     ]
    }
   ],
   "source": [
    "#Task 02\n",
    "\n",
    "temperature_data = np.random.uniform(low=15.0, high=35.0, size=100)  # Generate temperature data\n",
    "humidity_data = np.random.uniform(low=30.0, high=90.0, size=100)      # Generate humidity data\n",
    "\n",
    "np.random.seed(0)  # Set seed for reproducibility\n",
    "missing_fraction = 0.05  # Define fraction of missing data\n",
    "num_missing_temp = int(missing_fraction * len(temperature_data))  # Calculate missing temperature count\n",
    "num_missing_hum = int(missing_fraction * len(humidity_data))       # Calculate missing humidity count\n",
    "\n",
    "temp_indices = np.random.choice(len(temperature_data), num_missing_temp, replace=False)  # Randomly choose indices for missing temperatures\n",
    "hum_indices = np.random.choice(len(humidity_data), num_missing_hum, replace=False)        # Randomly choose indices for missing humidity\n",
    "\n",
    "temperature_data[temp_indices] = np.nan  # Set missing temperatures to NaN\n",
    "humidity_data[hum_indices] = np.nan      # Set missing humidity to NaN\n",
    "\n",
    "temp_missing = np.isnan(temperature_data).sum()  # Count missing temperatures\n",
    "hum_missing = np.isnan(humidity_data).sum()       # Count missing humidity\n",
    "total_missing = temp_missing + hum_missing        # Calculate total missing entries\n",
    "\n",
    "print(\"Missing Temperature Data:\", temp_missing)  # Print missing temperature count\n",
    "print(\"Missing Humidity Data:\", hum_missing)      # Print missing humidity count\n",
    "print(\"Total Missing Entries:\", total_missing)     # Print total missing entries\n"
   ]
  },
  {
   "cell_type": "code",
   "execution_count": 29,
   "id": "6e1c78fe",
   "metadata": {},
   "outputs": [
    {
     "name": "stdout",
     "output_type": "stream",
     "text": [
      "Temperature (°F) Sample:\n",
      " [78.75728614 84.74681719         nan 78.61579459 74.25157278]\n",
      "Feels Like Discomfort Index Sample:\n",
      " [80. 80. nan 80. 80.]\n"
     ]
    }
   ],
   "source": [
    "#Task 03\n",
    "\n",
    "np.random.seed(0)  # Set seed for reproducibility\n",
    "temperature_data = np.random.uniform(15.0, 35.0, 100)  # Generate temperature data\n",
    "humidity_data = np.random.uniform(30.0, 90.0, 100)      # Generate humidity data\n",
    "\n",
    "temp_indices = np.random.choice(len(temperature_data), 5, replace=False)  # Random indices for missing temps\n",
    "hum_indices = np.random.choice(len(humidity_data), 5, replace=False)        # Random indices for missing humidity\n",
    "temperature_data[temp_indices] = humidity_data[hum_indices] = np.nan  # Set missing values to NaN\n",
    "\n",
    "temperature_fahrenheit = (temperature_data * 9/5) + 32  # Convert to Fahrenheit\n",
    "feels_like_index = temperature_fahrenheit + humidity_data  # Calculate discomfort index\n",
    "feels_like_index[feels_like_index > 80] = 80  # Cap at 80\n",
    "\n",
    "print(\"Temperature (°F) Sample:\\n\", temperature_fahrenheit[:5])  # Print sample temperatures\n",
    "print(\"Feels Like Discomfort Index Sample:\\n\", feels_like_index[:5])  # Print sample discomfort index\n"
   ]
  },
  {
   "cell_type": "code",
   "execution_count": 30,
   "id": "6429325b",
   "metadata": {},
   "outputs": [
    {
     "name": "stdout",
     "output_type": "stream",
     "text": [
      "Average January Temperature: 24.894940009673693\n"
     ]
    }
   ],
   "source": [
    "#Task 04\n",
    "\n",
    "np.random.seed(0)  # Set seed for reproducibility\n",
    "temps = np.random.uniform(15.0, 35.0, (31, 500))  # Generate temperatures for 31 days and 500 locations\n",
    "\n",
    "jan_temps = temps[:31]  # Extract January temperatures\n",
    "avg_jan_temp = jan_temps.mean()  # Calculate average January temperature\n",
    "\n",
    "print(\"Average January Temperature:\", avg_jan_temp)  # Print average temperature\n"
   ]
  },
  {
   "cell_type": "code",
   "execution_count": 20,
   "id": "c95390b4",
   "metadata": {},
   "outputs": [
    {
     "name": "stdout",
     "output_type": "stream",
     "text": [
      "Number of null values in temperature_data: 5\n"
     ]
    }
   ],
   "source": [
    "#Task 5\n",
    "np.random.seed(0)  \n",
    "temperature_data = np.random.uniform(15.0, 35.0, 100)\n",
    "humidity_data = np.random.uniform(30.0, 90.0, 100)\n",
    "\n",
    "temp_indices = np.random.choice(len(temperature_data), 5, replace=False)\n",
    "hum_indices = np.random.choice(len(humidity_data), 5, replace=False)\n",
    "temperature_data[temp_indices] = humidity_data[hum_indices] = np.nan\n",
    "\n",
    "temperature_data[temperature_data > 35] = np.nan  \n",
    "\n",
    "null_count = np.isnan(temperature_data).sum()\n",
    "print(\"Number of null values in temperature_data:\", null_count)\n"
   ]
  },
  {
   "cell_type": "code",
   "execution_count": 32,
   "id": "9460652c",
   "metadata": {},
   "outputs": [
    {
     "name": "stdout",
     "output_type": "stream",
     "text": [
      "Quarterly Averages: [[25.80032646 24.63175989 24.6002425  ... 25.64780507 25.04992125\n",
      "  24.92641458]\n",
      " [24.70788361 23.91016968 25.29526526 ... 25.34453716 26.04287816\n",
      "  24.30527523]\n",
      " [25.40581463 24.83343448 25.00840989 ... 24.92918142 24.50575814\n",
      "  25.44988147]\n",
      " [24.90912653 24.6426114  25.57069302 ... 25.53364082 24.96172309\n",
      "  24.61552843]]\n"
     ]
    }
   ],
   "source": [
    "#Task 6\n",
    "\n",
    "np.random.seed(0)  # Set seed for reproducibility\n",
    "temp_data = np.random.uniform(15.0, 35.0, (365, 500))  # Generate temp data for 365 days and 500 locations\n",
    "\n",
    "quarters = np.array_split(temp_data, 4)  # Split data into 4 quarters\n",
    "quarterly_avg = np.array([np.nanmean(q, axis=0) for q in quarters])  # Average each quarter\n",
    "\n",
    "print(\"Quarterly Averages:\", quarterly_avg)  # Print averages\n",
    "\n"
   ]
  },
  {
   "cell_type": "code",
   "execution_count": 8,
   "id": "c8a579dd",
   "metadata": {},
   "outputs": [
    {
     "name": "stdout",
     "output_type": "stream",
     "text": [
      "Dry days per location: [ 95  92 100 115 117 122 104  98 109 122  97 112 103  98 119 105 115 116\n",
      "  92 104  92 104  96 107 111 108 111 117 106  98 108 108  94 106  93 103\n",
      "  99 110 112  97  90 106 105 111 106 108 105  84 111  99 105  95 108  95\n",
      " 108 102 111 109 101 113 122  97 107  89 108 110 106 119  91 100  88  88\n",
      " 111 102 119 123  99  90  87 123 105 108  94 101 113 106  87  95 102 104\n",
      "  88  94 120 103 111  99 125  96 111 109 107 103  98 113 105 123  98 113\n",
      " 119  97 118  98  99 107 124 122 117 109 108  98 115  89 103  94 131 103\n",
      "  99  92 100 115 121  99 100  93  94 118  93  98  98 108 104 103 100 104\n",
      " 111 123  96 114 114 114 111 118 117  97 111 111  99 109  95 105  98 123\n",
      "  96 109  86  96 100 110  86  92  99 109 112 108 104 107  89  92 112 105\n",
      "  99 104 110 114  81 103 100 115  94  96  99  87 100 107 116 102  91  93\n",
      " 102  98 102 101 106  94  99 112  95  85  97 102 115  98 101 105 100  85\n",
      " 104 113 120  96 106 113 104 117 108 102 107 103 133 113 102  99 104  97\n",
      " 112 105  94 107 101  91 100 119 107 111 115  94 100  97 106 103 103  99\n",
      "  88 102 100  91 101  93 108 108 125 108 104 121  93  91 100  98 115 107\n",
      " 107 111  97 105  86 111 107  84 100  96  98 114  98 106 114  92  98 104\n",
      " 101 120 114 117 102  96  98 120 108  98 114 108 100 100 101 102  98 108\n",
      " 112  91 105  87 104 103 106 105 111 124 106 104 113  94 117 104 101 108\n",
      " 106  96 115 119 104 113 101 111 105 102  90 108  88 104  97 107 114 107\n",
      "  94 111  87 107 105 104 106 104  98  95 102 117 108  99 104 114  91  91\n",
      " 101 112 104 117  96 107 100 116 102 100  93  98 121 109 101 102 106 107\n",
      " 107 120 100 110  96 112 108 118 105 125 101  99 111 110  99 108 116 104\n",
      " 116  99 114 118 106 106 116 110 110  96  95 106  97 107 104  98 106  92\n",
      "  95 101 118 114 115 101 101 114 113 105 105 102 109 109 114  95  97  94\n",
      "  97 104 101 105 118  95 102 107 100 103  91 106 107 100  91 100 103 105\n",
      " 105  92 119 103 111  98  97 121 107  95  91 105 111  95  93 103  97  99\n",
      " 121 117 110  94  96  88 111  89 117 117 104  97 109 105 100  99 118 103\n",
      " 106 103 103 100 104 106 107  92 105  99 101  93  98  83]\n",
      "Humid days per location: [109 113  99 107 108  86  93 110 102  81 114  99 115 108 102  96 100 101\n",
      " 126  97 103  98  98  98  94 108  97  94  88  98  99 104 113  95 103  99\n",
      " 109  90 106 111 106 106 106 111  90 105 103 112 110 111 100 114 102 115\n",
      " 102 104 102 106 121  88  91 113 102 110 110 126 112  92 115 121 118 100\n",
      " 102 102 112  87 110 105 106  88 102 116 123 107  89  75 116 128  96 102\n",
      " 110 124 102  96  87 110  92 108 102 105  89  92 100  99  99 108 100 106\n",
      "  81 112 103 114 112 109  95  86  88 100 101 100 101  99  97 112 103  97\n",
      " 105 111 105  96  88 100 103 110 110 100 109 110 107 107  95 114  94  98\n",
      "  98 101 116  86  89  82 102  93 102 110 106 100 109  96 116  97 106 100\n",
      " 107 109 110 108 118 106 117 105 101 100  98  95 105 107 122  96 104  95\n",
      " 114  97  97  99 119 102 116  91 113  89  96 102 112 100  91  98 117 109\n",
      " 110 100  99 110 107  97 100 105 106 114 107 117 102  94 113 111 122 113\n",
      " 113 116  89  97  91  89 100  84 112 123 101  80  93  91 114 104  85  97\n",
      "  92  95 104 102 100 108 101 101  88 103  96 118 111  88  86 103  98 108\n",
      " 110 103 109 114  97 117  94 110 101 105 105  84 110 108 114 120 114 108\n",
      "  92 106 107 108 105 122  97 104  98 114 121 104 109 105  94 100 120 103\n",
      "  98 100 100  85 101 106 107  98 105 101  86 103 113 102 105 103 106 100\n",
      " 108 106  98 119 114 112 110 111 106  90 103 104  90  98  99 101 123 104\n",
      " 104 118 104  98 109  85  92  91 104  86 107  94 122  98 113 108  95 105\n",
      " 114  87 111 100 107 112 112 106 107 102 101  90  83 120 105 120 107  98\n",
      "  93  94 104 107 117 101 106 115 107 117 117 112  93  89 110 102 103 110\n",
      " 102 107  95 110 102 111  94  98 107  98 113 110  95 110 103 116 115 100\n",
      " 102 106  96 102  97 101  88 112 102 110 106  88 106 101 111 105  92 108\n",
      " 103  92 102 101 101 109 110  99 108 111 101 113 111 113 101 110 115  98\n",
      " 113 104 107 110  99  93 109 117 106  99 111  97 108 112 104 127 101  97\n",
      " 115 110 112 115 113 113 101  76 109  97  97  88 104 119 102 101  96 110\n",
      "  84  94  92 108 115 100 104 107 101 108 116 108 104 111 104 104  97 103\n",
      " 114 109 110 103 104 110 112 114 115  99  91 105 103 125]\n"
     ]
    }
   ],
   "source": [
    "# Task 7: Classify Humidity Levels\n",
    "dry_days = (hum_data < 30).sum(axis=1)\n",
    "humid_days = (hum_data > 70).sum(axis=1)\n",
    "print(\"Dry days per location:\", dry_days)\n",
    "print(\"Humid days per location:\", humid_days)"
   ]
  },
  {
   "cell_type": "code",
   "execution_count": 26,
   "id": "6b8653cd",
   "metadata": {},
   "outputs": [
    {
     "name": "stdout",
     "output_type": "stream",
     "text": [
      "Adjusted Temperature Data: [20.97627008 24.33125985 22.11021258 20.98008124 18.5829861  23.0552449\n",
      " 18.91657939 28.02776771 29.49303543 17.91608312 26.10922604 20.8800962\n",
      " 21.69056155 28.86907562 11.80533655 12.15467391 10.84392839 27.11942988\n",
      " 26.05764051 27.92222099 30.12181739 26.56009436 19.83398285 26.24245166\n",
      " 13.02482918 23.48523361 13.58135146 29.63513658 21.2061972  19.0899421\n",
      " 16.11528807 26.33632214 20.00212752 22.27527238 11.30986194 23.3142484\n",
      " 23.23092544 23.35516345 29.91891761 24.70783455 18.28905911 19.8670127\n",
      " 25.10647007 12.38582811 24.54412552 24.64902113 15.47138749 13.86973474\n",
      " 17.62724834 18.62036927 22.77756178 20.17312917 31.19604819 13.49694017\n",
      " 15.66105161 14.73717937 24.60062805 16.63176612 20.91962205 16.50939096\n",
      " 14.82774332 13.883327   24.82988849 14.49442826 15.68988899 19.1602177\n",
      " 28.23305141 13.78268486 28.62703002 13.81757255 31.45226622 21.32357348\n",
      " 31.51324374 24.1024049  26.81823862 12.84419541 17.74405134 14.51931584\n",
      " 18.06566109 14.54488405 18.55746579 20.51053462 13.53569718 26.12966217\n",
      " 23.63972139 17.64295465 22.82759843 14.26892011 23.93651233 31.0309789\n",
      " 18.84390652 25.8482076  15.16342978 26.88148914 18.37053944 16.27371735\n",
      " 24.36762133 13.06698609 29.27110828 12.81368974 26.30358348 18.17488474\n",
      " 27.50607824 32.07344123 17.83220573 24.40776207 24.75292654 24.38459856\n",
      " 17.42866562 32.04948572 21.96448559 29.977624   27.06650858 19.05313462\n",
      " 29.40782453 21.08945548 30.80887713 24.83974317 30.87646548 27.11986257\n",
      " 27.80178889 23.35066346 32.47332105 26.25892486 21.88369438 25.56193022\n",
      " 13.84540243 19.52050732 26.71995427 19.34550819 25.93173715 22.17427512\n",
      " 16.33585491 19.61949267 25.0806169  25.52624643 25.22276871 26.82775266\n",
      " 26.83327419 22.44705003 31.77708576 21.22486377 22.61839741 31.76703853\n",
      " 30.07992374 28.06128815 16.01552676 32.42811381 28.35076006 34.07034672\n",
      " 17.10984521 31.5108728  17.42568287 26.51448799 16.70716889 31.21840634\n",
      " 30.43209346 25.69520159 22.48432529 15.75147178 28.34417986 23.49393058\n",
      " 28.89166144 31.8056685  34.01592461 31.64903388 14.79472124 21.78747338\n",
      " 29.21519586 18.07545069 25.09106179 15.78456196 18.72520522 15.12318314\n",
      " 30.65417385 19.28618607 21.74219845 33.42426323 28.97839793 15.55436101\n",
      " 18.23893808 27.4020955  26.54457177 19.78532895 33.73922501 27.3617367\n",
      " 25.82254617 26.93556216 29.76727576 21.4312076  23.18420146 19.44412773\n",
      " 18.99858539 34.1896456  30.12068623 25.16631903 19.93290794 20.49921755\n",
      " 16.60014365 24.15536548 21.73042313 29.4488478  23.10448734 19.16899663\n",
      " 16.09797017 16.97686076 29.24719613 24.76075008 26.44586994 33.6751841\n",
      " 35.57600972 20.13464298 29.08573989 21.11809589 16.29214087 31.07416648\n",
      " 22.33440895 23.63081634 27.75535326 32.63745262 28.62359292 33.52444168\n",
      " 21.5697418  32.0873103  19.86656504 35.23715182 29.95855674 20.54641728\n",
      " 35.21114807 30.90832493 21.39751417 20.61239339 26.73764065 16.91435326\n",
      " 20.57797294 24.94975333 23.96691609 25.7824975  22.09103566 28.301621\n",
      " 33.87051871 18.97151624 26.99593379 19.3171863  31.04049033 24.65196329\n",
      " 28.066668   20.45131101 19.710142   26.60178495 23.98038663 35.7042433\n",
      " 32.229582   31.92382185 35.05241677 18.67394321 28.07681643 28.74996094\n",
      " 36.32663966 22.95833515 21.95943274 19.17620852 17.52639479 35.81586106\n",
      " 30.65107818 32.98327802 22.94229442 29.06336816 18.64174269 27.10266181\n",
      " 36.96748521 34.97515985 24.23570651 36.73140309 22.16150506 36.5413215\n",
      " 36.40997168 33.59394186 30.24632137 35.1505945  23.55271338 34.69865133\n",
      " 30.10478659 18.03946243 24.74686816 20.79248755 37.49373065 27.45202153\n",
      " 27.85991522 30.72901077 25.33872509 20.73251093 34.46433269 21.84640879\n",
      " 28.30330273 22.59073618 20.08875782 35.40317101 37.64520297 37.43097888\n",
      " 36.37286823 33.75017742 24.95960634 19.94620362 26.49647178 23.02380372\n",
      " 21.0563461  19.50260957 32.97342575 18.71756016 33.92809849 21.48288895\n",
      " 20.16187022 20.39096178 32.06732977 23.56119035 27.09210801 29.85616704\n",
      " 35.94728721 33.30462152 24.1977669  21.4483373  19.95364025 24.90559906\n",
      " 24.14346189 28.05138276 32.62167067 32.8960254  24.68136594 26.63700066\n",
      " 22.6889533  34.86431684 20.25784065 33.08829648 34.74973209 34.75144794\n",
      " 24.41922052 26.73450452 31.03770699 24.76962486 26.75771533 23.30921747\n",
      " 28.59272207 20.31532295 35.44646714 21.01715092 29.88219748 25.66916902\n",
      " 31.11129854 38.7765789  32.5267895  20.35010586 28.27837846 29.89813924\n",
      " 30.44882462 33.38059746 25.33214173 22.38490362 27.68867837 38.99075182\n",
      " 23.63272773 37.99726152 30.82117395 29.11075591 37.6408282 ]\n"
     ]
    }
   ],
   "source": [
    "#Task 8\n",
    "DAYS = 365  # Number of days in a year\n",
    "np.random.seed(0)\n",
    "temp_data = np.random.uniform(15.0, 35.0, DAYS)  # Generate random temperature data\n",
    "\n",
    "pressure_trend = np.linspace(-5, 5, DAYS)  # Create pressure trend from -5 to 5\n",
    "temp_adj = temp_data + pressure_trend  # Adjust temperature data with pressure trend\n",
    "\n",
    "print(\"Adjusted Temperature Data:\", temp_adj)  # Display adjusted temperature data\n"
   ]
  },
  {
   "cell_type": "code",
   "execution_count": null,
   "id": "f115801f",
   "metadata": {},
   "outputs": [],
   "source": []
  }
 ],
 "metadata": {
  "kernelspec": {
   "display_name": "Python 3 (ipykernel)",
   "language": "python",
   "name": "python3"
  },
  "language_info": {
   "codemirror_mode": {
    "name": "ipython",
    "version": 3
   },
   "file_extension": ".py",
   "mimetype": "text/x-python",
   "name": "python",
   "nbconvert_exporter": "python",
   "pygments_lexer": "ipython3",
   "version": "3.9.13"
  }
 },
 "nbformat": 4,
 "nbformat_minor": 5
}
