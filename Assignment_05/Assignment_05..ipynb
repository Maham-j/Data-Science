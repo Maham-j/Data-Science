{
 "cells": [ 
  {
   "cell_type": "markdown",
   "id": "11fae166",
   "metadata": {},
   "source": [
    "# Task 01"
   ]
  },
  {
   "cell_type": "code",
   "execution_count": 15,
   "id": "80283a0e",
   "metadata": {},
   "outputs": [
    {
     "name": "stdout",
     "output_type": "stream",
     "text": [
      "Customers Dataset:\n",
      "   CustomerID  Age         City\n",
      "0           1   22     New York\n",
      "1           2   23  Los Angeles\n",
      "2           3   24      Chicago\n",
      "3           4   25      Houston\n",
      "4           5   26      Phoenix\n",
      "Shape: (100, 3)\n",
      "\n",
      "Sales Dataset:\n",
      "   SaleID  CustomerID     Product  Amount\n",
      "0     101           1      Laptop     200\n",
      "1     102           2  Smartphone     500\n",
      "2     103           3      Tablet     800\n",
      "3     104           4  Headphones    1100\n",
      "4     105           5     Monitor    1400\n",
      "Shape: (400, 4)\n"
     ]
    }
   ],
   "source": [
    "import pandas as pd\n",
    "\n",
    "directory = \"E:/STUDY/5TH SEMESTER/DATA SCIENCE/Assignments\"\n",
    "\n",
    "customers_file = f\"{directory}/customers.csv\"\n",
    "sales_file = f\"{directory}/sales.csv\"\n",
    "\n",
    "customers_df = pd.read_csv(customers_file)\n",
    "sales_df = pd.read_csv(sales_file)\n",
    "\n",
    "print(\"Customers Dataset:\")\n",
    "print(customers_df.head())\n",
    "print(f\"Shape: {customers_df.shape}\")\n",
    "print(\"\\nSales Dataset:\")\n",
    "print(sales_df.head())\n",
    "print(f\"Shape: {sales_df.shape}\")"
   ]
  },
  {
   "cell_type": "markdown",
   "id": "249096d2",
   "metadata": {},
   "source": [
    "# Task 02"
   ]
  },
  {
   "cell_type": "code",
   "execution_count": 16,
   "id": "d9c8f995",
   "metadata": {},
   "outputs": [
    {
     "name": "stdout",
     "output_type": "stream",
     "text": [
      "Filtered Customers (Dict): [{'CustomerID': 1, 'Age': 22, 'City': 'New York'}, {'CustomerID': 6, 'Age': 27, 'City': 'New York'}, {'CustomerID': 11, 'Age': 32, 'City': 'New York'}, {'CustomerID': 16, 'Age': 37, 'City': 'New York'}, {'CustomerID': 21, 'Age': 42, 'City': 'New York'}]\n",
      "Filtered Customers (DataFrame):\n",
      "    CustomerID  Age      City\n",
      "0            1   22  New York\n",
      "5            6   27  New York\n",
      "10          11   32  New York\n",
      "15          16   37  New York\n",
      "20          21   42  New York\n"
     ]
    }
   ],
   "source": [
    "# Task 2: Convert to dictionary and filter by city\n",
    "customers_dict = customers_df.to_dict(orient=\"records\")\n",
    "filtered_dict_customers = [cust for cust in customers_dict if cust[\"City\"] == \"New York\"]\n",
    "filtered_df_customers = customers_df[customers_df[\"City\"] == \"New York\"]\n",
    "\n",
    "print(f\"Filtered Customers (Dict): {filtered_dict_customers[:5]}\")\n",
    "print(f\"Filtered Customers (DataFrame):\\n{filtered_df_customers.head()}\")"
   ]
  },
  {
   "cell_type": "markdown",
   "id": "19490d19",
   "metadata": {},
   "source": [
    "# Task 03"
   ]
  },
  {
   "cell_type": "code",
   "execution_count": 17,
   "id": "f4a1f226",
   "metadata": {},
   "outputs": [
    {
     "name": "stdout",
     "output_type": "stream",
     "text": [
      "Customers Duplicates Removed: 0\n",
      "Sales Duplicates Removed: 0\n"
     ]
    }
   ],
   "source": [
    "# Task 3: Check for and remove duplicates\n",
    "customers_df = customers_df.drop_duplicates()\n",
    "sales_df = sales_df.drop_duplicates()\n",
    "print(f\"Customers Duplicates Removed: {customers_df.duplicated().sum()}\")\n",
    "print(f\"Sales Duplicates Removed: {sales_df.duplicated().sum()}\")"
   ]
  },
  {
   "cell_type": "markdown",
   "id": "3e63bbae",
   "metadata": {},
   "source": [
    "# Task 04"
   ]
  },
  {
   "cell_type": "code",
   "execution_count": 18,
   "id": "f4ce6c12",
   "metadata": {},
   "outputs": [
    {
     "name": "stdout",
     "output_type": "stream",
     "text": [
      "      Product  Discounted_Amount\n",
      "0  Headphones            79200.0\n",
      "1      Laptop            14400.0\n",
      "2     Monitor           100800.0\n",
      "3  Smartphone            36000.0\n",
      "4      Tablet            57600.0\n"
     ]
    }
   ],
   "source": [
    "# Task 4: Add discount column and group by product\n",
    "sales_df[\"Discounted_Amount\"] = sales_df[\"Amount\"] * 0.9\n",
    "product_sales = sales_df.groupby(\"Product\")[\"Discounted_Amount\"].sum().reset_index()\n",
    "print(product_sales)"
   ]
  },
  {
   "cell_type": "markdown",
   "id": "2c078841",
   "metadata": {},
   "source": [
    "# Task 05"
   ]
  },
  {
   "cell_type": "code",
   "execution_count": 19,
   "id": "f8bf966c",
   "metadata": {},
   "outputs": [
    {
     "name": "stdout",
     "output_type": "stream",
     "text": [
      "Filtered Customers:\n",
      "    CustomerID  Age         City\n",
      "3            4   25      Houston\n",
      "4            5   26      Phoenix\n",
      "5            6   27     New York\n",
      "6            7   28  Los Angeles\n",
      "7            8   29      Chicago\n",
      "8            9   30      Houston\n",
      "9           10   31      Phoenix\n",
      "10          11   32     New York\n",
      "11          12   33  Los Angeles\n",
      "12          13   34      Chicago\n",
      "13          14   35      Houston\n",
      "33          34   25      Houston\n",
      "34          35   26      Phoenix\n",
      "35          36   27     New York\n",
      "36          37   28  Los Angeles\n",
      "37          38   29      Chicago\n",
      "38          39   30      Houston\n",
      "39          40   31      Phoenix\n",
      "40          41   32     New York\n",
      "41          42   33  Los Angeles\n",
      "42          43   34      Chicago\n",
      "43          44   35      Houston\n",
      "63          64   25      Houston\n",
      "64          65   26      Phoenix\n",
      "65          66   27     New York\n",
      "66          67   28  Los Angeles\n",
      "67          68   29      Chicago\n",
      "68          69   30      Houston\n",
      "69          70   31      Phoenix\n",
      "70          71   32     New York\n",
      "71          72   33  Los Angeles\n",
      "72          73   34      Chicago\n",
      "73          74   35      Houston\n",
      "93          94   25      Houston\n",
      "94          95   26      Phoenix\n",
      "95          96   27     New York\n",
      "96          97   28  Los Angeles\n",
      "97          98   29      Chicago\n",
      "98          99   30      Houston\n",
      "99         100   31      Phoenix\n",
      "City Distribution:\n",
      "Houston        11\n",
      "Phoenix         8\n",
      "New York        7\n",
      "Los Angeles     7\n",
      "Chicago         7\n",
      "Name: City, dtype: int64\n"
     ]
    }
   ],
   "source": [
    "# Task 5: Filter customers aged 25-35 and analyze city distribution\n",
    "filtered_customers = customers_df[(customers_df[\"Age\"] >= 25) & (customers_df[\"Age\"] <= 35)]\n",
    "city_distribution = filtered_customers[\"City\"].value_counts()\n",
    "\n",
    "print(f\"Filtered Customers:\\n{filtered_customers}\")\n",
    "print(f\"City Distribution:\\n{city_distribution}\")"
   ]
  },
  {
   "cell_type": "markdown",
   "id": "0103ef86",
   "metadata": {},
   "source": [
    "# Task 06"
   ]
  },
  {
   "cell_type": "code",
   "execution_count": 14,
   "id": "7e182973",
   "metadata": {},
   "outputs": [
    {
     "name": "stdout",
     "output_type": "stream",
     "text": [
      "City with Highest Sales: Phoenix\n",
      "Most Sold Product: Laptop\n"
     ]
    }
   ],
   "source": [
    "# Task 6: Merge datasets and find insights\n",
    "merged_df = pd.merge(customers_df, sales_df, on=\"CustomerID\")\n",
    "city_with_highest_sales = merged_df.groupby(\"City\")[\"Discounted_Amount\"].sum().idxmax()\n",
    "most_sold_product = merged_df[\"Product\"].value_counts().idxmax()\n",
    "\n",
    "print(f\"City with Highest Sales: {city_with_highest_sales}\")\n",
    "print(f\"Most Sold Product: {most_sold_product}\")"
   ]
  },
  {
   "cell_type": "markdown",
   "id": "7bf33170",
   "metadata": {},
   "source": [
    "# Task 07"
   ]
  },
  {
   "cell_type": "code",
   "execution_count": 20,
   "id": "e6ab720c",
   "metadata": {},
   "outputs": [
    {
     "name": "stdout",
     "output_type": "stream",
     "text": [
      "Unique Cities: ['New York' 'Los Angeles' 'Chicago' 'Houston' 'Phoenix']\n",
      "Unique Products: ['Laptop' 'Smartphone' 'Tablet' 'Headphones' 'Monitor']\n",
      "Amount Mean: 800.0\n",
      "Amount Median: 800.0\n"
     ]
    }
   ],
   "source": [
    "# Task 7: Explore merged data\n",
    "unique_cities = merged_df[\"City\"].unique()\n",
    "unique_products = merged_df[\"Product\"].unique()\n",
    "amount_mean = merged_df[\"Amount\"].mean()\n",
    "amount_median = merged_df[\"Amount\"].median()\n",
    "\n",
    "print(f\"Unique Cities: {unique_cities}\")\n",
    "print(f\"Unique Products: {unique_products}\")\n",
    "print(f\"Amount Mean: {amount_mean}\")\n",
    "print(f\"Amount Median: {amount_median}\")"
   ]
  },
  {
   "cell_type": "code",
   "execution_count": null,
   "id": "84f5d890",
   "metadata": {},
   "outputs": [],
   "source": []
  },
  {
   "cell_type": "code",
   "execution_count": null,
   "id": "b6ad26df",
   "metadata": {},
   "outputs": [],
   "source": []
  }
 ],
 "metadata": {
  "kernelspec": {
   "display_name": "Python 3 (ipykernel)",
   "language": "python",
   "name": "python3"
  },
  "language_info": {
   "codemirror_mode": {
    "name": "ipython",
    "version": 3
   },
   "file_extension": ".py",
   "mimetype": "text/x-python",
   "name": "python",
   "nbconvert_exporter": "python",
   "pygments_lexer": "ipython3",
   "version": "3.9.13"
  }
 },
 "nbformat": 4,
 "nbformat_minor": 5
}
