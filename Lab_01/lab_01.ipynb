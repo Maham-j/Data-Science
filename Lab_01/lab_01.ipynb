{
 "cells": [ 
  {
   "cell_type": "markdown",
   "id": "119a9cc1", 
   "metadata": {},
   "source": [
    "# Task 01"
   ]
  },
  {
   "cell_type": "code",
   "execution_count": 8,
   "id": "ca80ea30",
   "metadata": {},
   "outputs": [
    {
     "name": "stdout",
     "output_type": "stream",
     "text": [
      "[ 1  2  3  4  0  6  7  8  9  0 11 12 13 14  0 16 17 18 19  0]\n"
     ]
    }
   ],
   "source": [
    "import numpy as np\n",
    "arr1 = np.arange(1,21)\n",
    "arr_2d = arr1.reshape(4,5)\n",
    "arr_2d[:,-1] = 0\n",
    "arr_flat = arr_2d.flatten()\n",
    "print(arr_flat)"
   ]
  },
  {
   "cell_type": "markdown",
   "id": "48792997",
   "metadata": {},
   "source": [
    "# Task 02"
   ]
  },
  {
   "cell_type": "code",
   "execution_count": 47,
   "id": "c8416bcf",
   "metadata": {},
   "outputs": [
    {
     "name": "stdout",
     "output_type": "stream",
     "text": [
      "Mean:  [29.8 34.4 30.  29.6 22.2]\n",
      "Sum:  [149 172 150 148 111]\n",
      "Minimum:  [17 16 10 15 12]\n",
      "Maximum:  [49 48 49 44 43]\n",
      "\n",
      "Mean:  [29.8 34.4 30.  29.6 22.2]\n",
      "Sum:  [149 172 150 148 111]\n",
      "Minimum:  [17 16 10 15 12]\n",
      "Maximum:  [49 48 49 44 43]\n"
     ]
    }
   ],
   "source": [
    "import numpy as np\n",
    "import random\n",
    "\n",
    "arr_2d = np.random.randint(10,50,size=(5,5))\n",
    "# columnwise\n",
    "col_mean = np.mean(arr_2d,axis=1)\n",
    "col_sum = np.sum(arr_2d,axis=1)\n",
    "col_mini = np.min(arr_2d,axis=1)\n",
    "col_maxi = np.max(arr_2d,axis=1)\n",
    "\n",
    "print(\"Mean: \",col_mean)\n",
    "print(\"Sum: \",col_sum)\n",
    "print(\"Minimum: \",col_mini)\n",
    "print(\"Maximum: \",col_maxi)\n",
    "\n",
    "# rowwise\n",
    "\n",
    "row_mean = np.mean(arr_2d,axis=0)\n",
    "row_sum = np.sum(arr_2d,axis=0)\n",
    "row_mini = np.min(arr_2d,axis=0)\n",
    "row_maxi = np.max(arr_2d,axis=0)\n",
    "print()\n",
    "print(\"Mean: \",col_mean)\n",
    "print(\"Sum: \",col_sum)\n",
    "print(\"Minimum: \",col_mini)\n",
    "print(\"Maximum: \",col_maxi)\n"
   ]
  },
  {
   "cell_type": "markdown",
   "id": "6d9288ad",
   "metadata": {},
   "source": [
    "# Task 03"
   ]
  },
  {
   "cell_type": "code",
   "execution_count": 31,
   "id": "bc402a99",
   "metadata": {},
   "outputs": [
    {
     "name": "stdout",
     "output_type": "stream",
     "text": [
      "[[6. 0. 0. 0.]\n",
      " [0. 6. 0. 0.]\n",
      " [0. 0. 6. 0.]\n",
      " [1. 1. 1. 1.]]\n"
     ]
    }
   ],
   "source": [
    "import numpy as np\n",
    "mat = np.identity(4)\n",
    "np.fill_diagonal(mat,np.diagonal(mat)+5)\n",
    "mat[-1] =1\n",
    "print(mat)\n"
   ]
  },
  {
   "cell_type": "markdown",
   "id": "b0314577",
   "metadata": {},
   "source": [
    "# Task 04"
   ]
  },
  {
   "cell_type": "code",
   "execution_count": 46,
   "id": "46e85217",
   "metadata": {},
   "outputs": [
    {
     "name": "stdout",
     "output_type": "stream",
     "text": [
      "[12 12  4 10  1  3  9 14  5  5 15  2  0  4  9]\n",
      "\n",
      "Unique:  [ 0  1  2  3  4  5  9 10 12 14 15]\n",
      "Counts:  [1 1 1 1 2 2 2 1 2 1 1]\n",
      "\n",
      "Indices of Elements >10:\n",
      "[ 0  1  7 10]\n"
     ]
    }
   ],
   "source": [
    "import numpy as np\n",
    "import random\n",
    "arr_1d = np.random.randint(0,20,size = 15)\n",
    "print(arr_1d)\n",
    "print()\n",
    "unique,counts = np.unique(arr_1d,return_counts = True)\n",
    "print(\"Unique: \",unique)\n",
    "print(\"Counts: \",counts)\n",
    "# print(dict(zip(unique_counts)))\n",
    "indices = np.where(arr_1d>10)[0]\n",
    "print(\"\\nIndices of Elements >10:\")\n",
    "print(indices)"
   ]
  },
  {
   "cell_type": "markdown",
   "id": "90433fcb",
   "metadata": {},
   "source": [
    "# Task 05"
   ]
  },
  {
   "cell_type": "code",
   "execution_count": 30,
   "id": "65d7b9d1",
   "metadata": {},
   "outputs": [
    {
     "name": "stdout",
     "output_type": "stream",
     "text": [
      "[[6. 0. 0. 0.]\n",
      " [0. 6. 0. 0.]\n",
      " [0. 0. 6. 0.]\n",
      " [1. 1. 1. 1.]]\n"
     ]
    }
   ],
   "source": [
    "import numpy as np\n",
    "import random\n",
    "\n",
    "arr = np.random.rand(3,4)\n",
    "arr = np.round(arr,2)\n",
    "arr[:,1] = 0.5\n",
    "print(arr)"
   ]
  },
  {
   "cell_type": "code",
   "execution_count": null,
   "id": "dcbb053d",
   "metadata": {},
   "outputs": [],
   "source": []
  }
 ],
 "metadata": {
  "kernelspec": {
   "display_name": "Python 3 (ipykernel)",
   "language": "python",
   "name": "python3"
  },
  "language_info": {
   "codemirror_mode": {
    "name": "ipython",
    "version": 3
   },
   "file_extension": ".py",
   "mimetype": "text/x-python",
   "name": "python",
   "nbconvert_exporter": "python",
   "pygments_lexer": "ipython3",
   "version": "3.9.13"
  }
 },
 "nbformat": 4,
 "nbformat_minor": 5
}
