{
 "cells": [
  {
   "cell_type": "code",
   "execution_count": 3,
   "metadata": {
    "_cell_guid": "b1076dfc-b9ad-4769-8c92-a6c4dae69d19",
    "_uuid": "8f2839f25d086af736a60e9eeb907d3b93b6e0e5",
    "execution": {
     "iopub.execute_input": "2024-12-15T16:49:24.633965Z",
     "iopub.status.busy": "2024-12-15T16:49:24.633314Z",
     "iopub.status.idle": "2024-12-15T16:49:25.229106Z",
     "shell.execute_reply": "2024-12-15T16:49:25.227723Z",
     "shell.execute_reply.started": "2024-12-15T16:49:24.633906Z"
    }
   },
   "outputs": [],
   "source": [
    "import pandas as pd\n",
    "df = pd.read_csv('/kaggle/input/employee-performance-and-salary-dataset/Employe_Performance_dataset.csv')\n"
   ]
  },
  {
   "cell_type": "code",
   "execution_count": 4,
   "metadata": {
    "execution": {
     "iopub.execute_input": "2024-12-15T16:49:25.232287Z",
     "iopub.status.busy": "2024-12-15T16:49:25.231713Z",
     "iopub.status.idle": "2024-12-15T16:49:25.257310Z",
     "shell.execute_reply": "2024-12-15T16:49:25.255869Z",
     "shell.execute_reply.started": "2024-12-15T16:49:25.232229Z"
    }
   },
   "outputs": [
    {
     "name": "stdout",
     "output_type": "stream",
     "text": [
      "# Question 1:\n",
      "   ID                Name  Age  Gender Department  Salary Joining Date  \\\n",
      "0   1        Cory Escobar   48  Female         HR    5641   2015-05-03   \n",
      "1   2     Timothy Sanchez   25   Other      Sales    4249   2020-11-09   \n",
      "2   3        Chad Nichols   57   Other      Sales    3058   2019-02-12   \n",
      "3   4  Christine Williams   58  Female         IT    5895   2017-09-08   \n",
      "4   5        Amber Harris   35   Other         IT    4317   2020-02-15   \n",
      "5   6         Ashley Howe   29  Female         HR    2591   2016-06-24   \n",
      "6   7         David Olson   39  Female      Sales    6826   2023-05-11   \n",
      "7   8        Amanda Baker   52   Other         HR    6285   2015-04-01   \n",
      "8   9       Jeremy Wright   63  Female      Sales    9862   2024-02-07   \n",
      "9  10      Brian Faulkner   30    Male         IT    8202   2018-05-26   \n",
      "\n",
      "   Performance Score  Experience    Status     Location  Session  \n",
      "0                2.0          16    Active     New York    Night  \n",
      "1                2.0          11  Inactive  Los Angeles  Evening  \n",
      "2                NaN           1  Inactive     New York  Morning  \n",
      "3                2.0          13  Inactive  Los Angeles  Evening  \n",
      "4                5.0          16  Inactive     New York  Evening  \n",
      "5                1.0           6    Active      Chicago  Evening  \n",
      "6                NaN           4    Active     New York    Night  \n",
      "7                NaN           8  Inactive      Chicago  Evening  \n",
      "8                NaN           3  Inactive     New York    Night  \n",
      "9                1.0           9    Active  Los Angeles  Morning  \n"
     ]
    }
   ],
   "source": [
    "print(\"# Question 1:\")\n",
    "print(df.head(10))\n"
   ]
  },
  {
   "cell_type": "code",
   "execution_count": 5,
   "metadata": {
    "execution": {
     "iopub.execute_input": "2024-12-15T16:49:25.259405Z",
     "iopub.status.busy": "2024-12-15T16:49:25.258872Z",
     "iopub.status.idle": "2024-12-15T16:49:25.269444Z",
     "shell.execute_reply": "2024-12-15T16:49:25.268117Z",
     "shell.execute_reply.started": "2024-12-15T16:49:25.259348Z"
    }
   },
   "outputs": [
    {
     "name": "stdout",
     "output_type": "stream",
     "text": [
      "# Question 2:\n",
      "ID                     int64\n",
      "Name                  object\n",
      "Age                    int64\n",
      "Gender                object\n",
      "Department            object\n",
      "Salary                 int64\n",
      "Joining Date          object\n",
      "Performance Score    float64\n",
      "Experience             int64\n",
      "Status                object\n",
      "Location              object\n",
      "Session               object\n",
      "dtype: object\n"
     ]
    }
   ],
   "source": [
    "# Question 2: Column names and data types\n",
    "print(\"# Question 2:\")\n",
    "print(df.dtypes)"
   ]
  },
  {
   "cell_type": "code",
   "execution_count": 6,
   "metadata": {
    "execution": {
     "iopub.execute_input": "2024-12-15T16:49:25.275074Z",
     "iopub.status.busy": "2024-12-15T16:49:25.273987Z",
     "iopub.status.idle": "2024-12-15T16:49:25.290190Z",
     "shell.execute_reply": "2024-12-15T16:49:25.288926Z",
     "shell.execute_reply.started": "2024-12-15T16:49:25.274973Z"
    }
   },
   "outputs": [
    {
     "name": "stdout",
     "output_type": "stream",
     "text": [
      "# Question 3:\n",
      "(1000, 12)\n"
     ]
    }
   ],
   "source": [
    "# Question 3: Number of rows and columns\n",
    "print(\"# Question 3:\")\n",
    "print(df.shape)\n"
   ]
  },
  {
   "cell_type": "code",
   "execution_count": 7,
   "metadata": {
    "execution": {
     "iopub.execute_input": "2024-12-15T16:49:25.292837Z",
     "iopub.status.busy": "2024-12-15T16:49:25.292294Z",
     "iopub.status.idle": "2024-12-15T16:49:25.321752Z",
     "shell.execute_reply": "2024-12-15T16:49:25.320164Z",
     "shell.execute_reply.started": "2024-12-15T16:49:25.292781Z"
    }
   },
   "outputs": [
    {
     "name": "stdout",
     "output_type": "stream",
     "text": [
      "# Question 4:\n",
      "                   Name  Age  Salary\n",
      "0          Cory Escobar   48    5641\n",
      "1       Timothy Sanchez   25    4249\n",
      "2          Chad Nichols   57    3058\n",
      "3    Christine Williams   58    5895\n",
      "4          Amber Harris   35    4317\n",
      "..                  ...  ...     ...\n",
      "995       Pamela Reeves   49    7652\n",
      "996        Todd Johnson   29    6754\n",
      "997     Michael Sanchez   18    5278\n",
      "998       Ashley Taylor   51    5437\n",
      "999         Shawn Scott   45    7364\n",
      "\n",
      "[1000 rows x 3 columns]\n"
     ]
    }
   ],
   "source": [
    "# Question 4: Select Name, Age, Salary columns\n",
    "print(\"# Question 4:\")\n",
    "print(df[['Name', 'Age', 'Salary']])"
   ]
  },
  {
   "cell_type": "code",
   "execution_count": 8,
   "metadata": {
    "execution": {
     "iopub.execute_input": "2024-12-15T16:49:25.323807Z",
     "iopub.status.busy": "2024-12-15T16:49:25.323301Z",
     "iopub.status.idle": "2024-12-15T16:49:25.358855Z",
     "shell.execute_reply": "2024-12-15T16:49:25.356235Z",
     "shell.execute_reply.started": "2024-12-15T16:49:25.323755Z"
    }
   },
   "outputs": [
    {
     "name": "stdout",
     "output_type": "stream",
     "text": [
      "# Question 5:\n",
      "   ID                Name  Age  Gender Department  Salary Joining Date  \\\n",
      "0   1        Cory Escobar   48  Female         HR    5641   2015-05-03   \n",
      "1   2     Timothy Sanchez   25   Other      Sales    4249   2020-11-09   \n",
      "2   3        Chad Nichols   57   Other      Sales    3058   2019-02-12   \n",
      "3   4  Christine Williams   58  Female         IT    5895   2017-09-08   \n",
      "4   5        Amber Harris   35   Other         IT    4317   2020-02-15   \n",
      "\n",
      "   Performance Score  Experience    Status     Location  Session  \n",
      "0                2.0          16    Active     New York    Night  \n",
      "1                2.0          11  Inactive  Los Angeles  Evening  \n",
      "2                NaN           1  Inactive     New York  Morning  \n",
      "3                2.0          13  Inactive  Los Angeles  Evening  \n",
      "4                5.0          16  Inactive     New York  Evening  \n"
     ]
    }
   ],
   "source": [
    "# Question 5: Select first 5 rows with iloc\n",
    "print(\"# Question 5:\")\n",
    "print(df.iloc[:5])"
   ]
  },
  {
   "cell_type": "code",
   "execution_count": 9,
   "metadata": {
    "execution": {
     "iopub.execute_input": "2024-12-15T16:49:25.362537Z",
     "iopub.status.busy": "2024-12-15T16:49:25.360549Z",
     "iopub.status.idle": "2024-12-15T16:49:25.384379Z",
     "shell.execute_reply": "2024-12-15T16:49:25.383101Z",
     "shell.execute_reply.started": "2024-12-15T16:49:25.362463Z"
    }
   },
   "outputs": [
    {
     "name": "stdout",
     "output_type": "stream",
     "text": [
      "# Question 6:\n",
      "      ID             Name  Age  Gender Department  Salary Joining Date  \\\n",
      "1      2  Timothy Sanchez   25   Other      Sales    4249   2020-11-09   \n",
      "2      3     Chad Nichols   57   Other      Sales    3058   2019-02-12   \n",
      "6      7      David Olson   39  Female      Sales    6826   2023-05-11   \n",
      "8      9    Jeremy Wright   63  Female      Sales    9862   2024-02-07   \n",
      "10    11      Nicole Bell   42  Female      Sales    5336   2015-01-28   \n",
      "..   ...              ...  ...     ...        ...     ...          ...   \n",
      "991  992  William Schultz   23   Other      Sales    4311   2019-08-17   \n",
      "992  993   Ashley Daniels   25   Other      Sales    5524   2022-11-24   \n",
      "995  996    Pamela Reeves   49  Female      Sales    7652   2024-06-23   \n",
      "996  997     Todd Johnson   29  Female      Sales    6754   2018-07-20   \n",
      "997  998  Michael Sanchez   18    Male      Sales    5278   2023-07-05   \n",
      "\n",
      "     Performance Score  Experience    Status     Location  Session  \n",
      "1                  2.0          11  Inactive  Los Angeles  Evening  \n",
      "2                  NaN           1  Inactive     New York  Morning  \n",
      "6                  NaN           4    Active     New York    Night  \n",
      "8                  NaN           3  Inactive     New York    Night  \n",
      "10                 3.0           7    Active  Los Angeles  Evening  \n",
      "..                 ...         ...       ...          ...      ...  \n",
      "991                NaN          10  Inactive  Los Angeles  Evening  \n",
      "992                NaN           8  Inactive     New York  Morning  \n",
      "995                4.0           3    Active  Los Angeles  Evening  \n",
      "996                NaN          12  Inactive     New York  Morning  \n",
      "997                5.0           3    Active     New York  Morning  \n",
      "\n",
      "[338 rows x 12 columns]\n"
     ]
    }
   ],
   "source": [
    "# Question 6: Rows where Department is 'Sales'\n",
    "print(\"# Question 6:\")\n",
    "print(df.loc[df['Department'] == 'Sales'])"
   ]
  },
  {
   "cell_type": "code",
   "execution_count": 10,
   "metadata": {
    "execution": {
     "iopub.execute_input": "2024-12-15T16:49:25.386809Z",
     "iopub.status.busy": "2024-12-15T16:49:25.385836Z",
     "iopub.status.idle": "2024-12-15T16:49:25.419424Z",
     "shell.execute_reply": "2024-12-15T16:49:25.417567Z",
     "shell.execute_reply.started": "2024-12-15T16:49:25.386749Z"
    }
   },
   "outputs": [
    {
     "name": "stdout",
     "output_type": "stream",
     "text": [
      "# Question 7:\n",
      "      ID             Name  Age  Gender Department  Salary Joining Date  \\\n",
      "9     10   Brian Faulkner   30    Male         IT    8202   2018-05-26   \n",
      "24    25    Tracy Carlson   21    Male         HR    9275   2022-04-09   \n",
      "38    39     Jordan Scott   33   Other      Sales    8678   2016-05-15   \n",
      "39    40      Lisa Wagner   36    Male         HR    8870   2024-08-12   \n",
      "60    61   Andrew Shannon   51   Other      Sales    8544   2020-02-08   \n",
      "..   ...              ...  ...     ...        ...     ...          ...   \n",
      "976  977    Kimberly Ross   19    Male      Sales    9331   2018-07-03   \n",
      "982  983    Stephen Ponce   46   Other      Sales    8696   2022-10-14   \n",
      "986  987  Melissa Bradley   39  Female         IT    9618   2015-07-05   \n",
      "988  989   Hannah Hickman   36  Female         IT    9118   2022-07-02   \n",
      "989  990    Shannon Meyer   18   Other         HR    9985   2022-11-05   \n",
      "\n",
      "     Performance Score  Experience  Status     Location  Session  \n",
      "9                  1.0           9  Active  Los Angeles  Morning  \n",
      "24                 4.0          12  Active     New York  Morning  \n",
      "38                 5.0           9  Active  Los Angeles  Evening  \n",
      "39                 4.0          17  Active  Los Angeles  Evening  \n",
      "60                 NaN           6  Active     New York  Evening  \n",
      "..                 ...         ...     ...          ...      ...  \n",
      "976                5.0          12  Active     New York  Morning  \n",
      "982                4.0           1  Active     New York  Evening  \n",
      "986                1.0          13  Active     New York  Morning  \n",
      "988                5.0           5  Active     New York    Night  \n",
      "989                4.0          18  Active      Chicago    Night  \n",
      "\n",
      "[112 rows x 12 columns]\n"
     ]
    }
   ],
   "source": [
    "# Question 7: Rows with Salary > 8000 and Status is 'Active'\n",
    "print(\"# Question 7:\")\n",
    "print(df[(df['Salary'] > 8000) & (df['Status'] == 'Active')])"
   ]
  },
  {
   "cell_type": "code",
   "execution_count": 11,
   "metadata": {
    "execution": {
     "iopub.execute_input": "2024-12-15T16:49:25.423698Z",
     "iopub.status.busy": "2024-12-15T16:49:25.423133Z",
     "iopub.status.idle": "2024-12-15T16:49:25.445169Z",
     "shell.execute_reply": "2024-12-15T16:49:25.443961Z",
     "shell.execute_reply.started": "2024-12-15T16:49:25.423642Z"
    }
   },
   "outputs": [
    {
     "name": "stdout",
     "output_type": "stream",
     "text": [
      "\n",
      "# Task 8:\n",
      "      ID                Name  Age  Gender Department  Salary Joining Date  \\\n",
      "4      5        Amber Harris   35   Other         IT    4317   2020-02-15   \n",
      "11    12   Rodney Richardson   60   Other         HR    6908   2015-03-14   \n",
      "17    18  Jacqueline Randall   31  Female         HR    3519   2018-05-18   \n",
      "18    19      Nancy Stephens   38    Male         HR    9061   2017-07-16   \n",
      "24    25       Tracy Carlson   21    Male         HR    9275   2022-04-09   \n",
      "..   ...                 ...  ...     ...        ...     ...          ...   \n",
      "978  979         Michael Lee   18  Female         IT    6086   2019-05-30   \n",
      "989  990       Shannon Meyer   18   Other         HR    9985   2022-11-05   \n",
      "990  991        Amy Johnston   53  Female         HR    3991   2024-09-03   \n",
      "993  994       Brandon Bruce   31  Female         HR    3371   2018-09-25   \n",
      "998  999       Ashley Taylor   51  Female         IT    5437   2022-02-18   \n",
      "\n",
      "     Performance Score  Experience    Status     Location  Session  \n",
      "4                  5.0          16  Inactive     New York  Evening  \n",
      "11                 4.0          19    Active      Chicago    Night  \n",
      "17                 4.0           6    Active     New York  Morning  \n",
      "18                 5.0          16  Inactive      Chicago    Night  \n",
      "24                 4.0          12    Active     New York  Morning  \n",
      "..                 ...         ...       ...          ...      ...  \n",
      "978                4.0           7  Inactive  Los Angeles  Evening  \n",
      "989                4.0          18    Active      Chicago    Night  \n",
      "990                4.0           8    Active      Chicago  Morning  \n",
      "993                5.0          12  Inactive      Chicago    Night  \n",
      "998                4.0           9  Inactive  Los Angeles  Evening  \n",
      "\n",
      "[137 rows x 12 columns]\n"
     ]
    }
   ],
   "source": [
    "# Task 8: Select rows where Experience > 5 years and Performance Score >= 4\n",
    "print(\"\\n# Task 8:\")\n",
    "print(df[(df['Experience'] > 5) & (df['Performance Score'] >= 4)])"
   ]
  },
  {
   "cell_type": "code",
   "execution_count": 12,
   "metadata": {
    "execution": {
     "iopub.execute_input": "2024-12-15T16:49:25.451358Z",
     "iopub.status.busy": "2024-12-15T16:49:25.450656Z",
     "iopub.status.idle": "2024-12-15T16:49:25.471694Z",
     "shell.execute_reply": "2024-12-15T16:49:25.470117Z",
     "shell.execute_reply.started": "2024-12-15T16:49:25.451288Z"
    }
   },
   "outputs": [
    {
     "name": "stdout",
     "output_type": "stream",
     "text": [
      "\n",
      "# Task 9: Every alternate row\n",
      "      ID             Name  Age  Gender Department  Salary Joining Date  \\\n",
      "0      1     Cory Escobar   48  Female         HR    5641   2015-05-03   \n",
      "2      3     Chad Nichols   57   Other      Sales    3058   2019-02-12   \n",
      "4      5     Amber Harris   35   Other         IT    4317   2020-02-15   \n",
      "6      7      David Olson   39  Female      Sales    6826   2023-05-11   \n",
      "8      9    Jeremy Wright   63  Female      Sales    9862   2024-02-07   \n",
      "..   ...              ...  ...     ...        ...     ...          ...   \n",
      "990  991     Amy Johnston   53  Female         HR    3991   2024-09-03   \n",
      "992  993   Ashley Daniels   25   Other      Sales    5524   2022-11-24   \n",
      "994  995  Rachel Phillips   22    Male         IT    3096   2018-10-27   \n",
      "996  997     Todd Johnson   29  Female      Sales    6754   2018-07-20   \n",
      "998  999    Ashley Taylor   51  Female         IT    5437   2022-02-18   \n",
      "\n",
      "     Performance Score  Experience    Status     Location  Session  \n",
      "0                  2.0          16    Active     New York    Night  \n",
      "2                  NaN           1  Inactive     New York  Morning  \n",
      "4                  5.0          16  Inactive     New York  Evening  \n",
      "6                  NaN           4    Active     New York    Night  \n",
      "8                  NaN           3  Inactive     New York    Night  \n",
      "..                 ...         ...       ...          ...      ...  \n",
      "990                4.0           8    Active      Chicago  Morning  \n",
      "992                NaN           8  Inactive     New York  Morning  \n",
      "994                2.0           7  Inactive      Chicago  Evening  \n",
      "996                NaN          12  Inactive     New York  Morning  \n",
      "998                4.0           9  Inactive  Los Angeles  Evening  \n",
      "\n",
      "[500 rows x 12 columns]\n"
     ]
    }
   ],
   "source": [
    "# Task 9: Select every alternate row using slicing with `iloc`\n",
    "print(\"\\n# Task 9: Every alternate row\")\n",
    "print(df.iloc[::2])"
   ]
  },
  {
   "cell_type": "code",
   "execution_count": 13,
   "metadata": {
    "execution": {
     "iopub.execute_input": "2024-12-15T16:49:25.474593Z",
     "iopub.status.busy": "2024-12-15T16:49:25.473280Z",
     "iopub.status.idle": "2024-12-15T16:49:25.508736Z",
     "shell.execute_reply": "2024-12-15T16:49:25.503101Z",
     "shell.execute_reply.started": "2024-12-15T16:49:25.474513Z"
    }
   },
   "outputs": [
    {
     "name": "stdout",
     "output_type": "stream",
     "text": [
      "\n",
      "# Task 10: Rows where Department is 'Sales' and Salary in top 10%\n",
      "      ID                     Name  Age  Gender Department  Salary  \\\n",
      "8      9            Jeremy Wright   63  Female      Sales    9862   \n",
      "22    23             Bryce Carter   35  Female      Sales    9598   \n",
      "29    30            Rachel Ramsey   22    Male      Sales    9661   \n",
      "215  216               Sara Jones   50  Female      Sales    9377   \n",
      "228  229          Christie Warren   51  Female      Sales    9139   \n",
      "239  240      Christina Gutierrez   37    Male      Sales    9356   \n",
      "250  251           Joshua Bullock   38    Male      Sales    9924   \n",
      "263  264          Gabriela Wilson   40   Other      Sales    9455   \n",
      "275  276          Harry Alexander   22    Male      Sales    9749   \n",
      "299  300              Terry Smith   38  Female      Sales    9375   \n",
      "379  380                Dustin Le   29    Male      Sales    9726   \n",
      "381  382           David Marshall   43   Other      Sales    9269   \n",
      "405  406            Heather Scott   57    Male      Sales    9505   \n",
      "442  443          Kimberly Sparks   26   Other      Sales    9146   \n",
      "491  492  Dr. Jacob Castaneda DVM   53   Other      Sales    9181   \n",
      "516  517           Christina Lowe   35  Female      Sales    9630   \n",
      "552  553          Amanda Griffith   26    Male      Sales    9704   \n",
      "591  592          Jonathan Rangel   49   Other      Sales    9323   \n",
      "594  595           Michelle Smith   35   Other      Sales    9906   \n",
      "629  630           Patricia Scott   52   Other      Sales    9364   \n",
      "742  743           Timothy Guzman   41  Female      Sales    9409   \n",
      "756  757              James James   38    Male      Sales    9666   \n",
      "758  759          Matthew Roberts   53    Male      Sales    9917   \n",
      "778  779             David Nelson   39   Other      Sales    9653   \n",
      "796  797            Jacob Shannon   35   Other      Sales    9926   \n",
      "844  845             Gerald Cooke   33   Other      Sales    9693   \n",
      "898  899           Tiffany Jordan   44    Male      Sales    9819   \n",
      "903  904             Leslie Mason   42   Other      Sales    9658   \n",
      "932  933             Kristin Cole   50    Male      Sales    9616   \n",
      "937  938            Gary Mitchell   52  Female      Sales    9963   \n",
      "976  977            Kimberly Ross   19    Male      Sales    9331   \n",
      "\n",
      "    Joining Date  Performance Score  Experience    Status     Location  \\\n",
      "8     2024-02-07                NaN           3  Inactive     New York   \n",
      "22    2015-12-16                4.0           4  Inactive     New York   \n",
      "29    2016-08-18                2.0          17  Inactive      Chicago   \n",
      "215   2019-10-16                NaN           3    Active  Los Angeles   \n",
      "228   2020-08-16                5.0           1    Active      Chicago   \n",
      "239   2018-01-02                3.0           3    Active      Chicago   \n",
      "250   2019-01-10                4.0          20  Inactive      Chicago   \n",
      "263   2023-11-19                1.0          14    Active  Los Angeles   \n",
      "275   2019-05-15                NaN           5    Active  Los Angeles   \n",
      "299   2022-12-23                NaN           2  Inactive     New York   \n",
      "379   2015-04-13                1.0           2  Inactive      Chicago   \n",
      "381   2018-10-05                2.0          13  Inactive  Los Angeles   \n",
      "405   2024-08-18                3.0           6  Inactive     New York   \n",
      "442   2024-07-29                3.0           3  Inactive     New York   \n",
      "491   2024-02-17                5.0           1  Inactive  Los Angeles   \n",
      "516   2018-07-03                NaN           1    Active  Los Angeles   \n",
      "552   2019-05-30                NaN           9    Active     New York   \n",
      "591   2021-01-19                NaN          18  Inactive      Chicago   \n",
      "594   2018-12-18                NaN           9    Active  Los Angeles   \n",
      "629   2019-11-05                NaN           5    Active     New York   \n",
      "742   2023-09-17                NaN          16  Inactive     New York   \n",
      "756   2016-04-14                NaN          15    Active  Los Angeles   \n",
      "758   2017-07-07                1.0          16    Active  Los Angeles   \n",
      "778   2021-08-08                NaN          19  Inactive     New York   \n",
      "796   2016-09-04                NaN           7    Active      Chicago   \n",
      "844   2017-08-29                NaN          17  Inactive     New York   \n",
      "898   2022-07-15                NaN          13    Active     New York   \n",
      "903   2019-10-31                1.0          14  Inactive     New York   \n",
      "932   2017-02-03                2.0          13  Inactive  Los Angeles   \n",
      "937   2016-09-22                5.0          20  Inactive  Los Angeles   \n",
      "976   2018-07-03                5.0          12    Active     New York   \n",
      "\n",
      "     Session  \n",
      "8      Night  \n",
      "22     Night  \n",
      "29     Night  \n",
      "215  Morning  \n",
      "228    Night  \n",
      "239  Morning  \n",
      "250    Night  \n",
      "263  Morning  \n",
      "275  Morning  \n",
      "299  Morning  \n",
      "379  Evening  \n",
      "381  Evening  \n",
      "405    Night  \n",
      "442  Evening  \n",
      "491  Morning  \n",
      "516    Night  \n",
      "552  Evening  \n",
      "591  Evening  \n",
      "594  Evening  \n",
      "629  Evening  \n",
      "742  Morning  \n",
      "756  Morning  \n",
      "758  Evening  \n",
      "778  Morning  \n",
      "796    Night  \n",
      "844  Morning  \n",
      "898  Morning  \n",
      "903  Evening  \n",
      "932    Night  \n",
      "937  Morning  \n",
      "976  Morning  \n"
     ]
    }
   ],
   "source": [
    "# Task 10: Rows where Department is 'Sales' and Salary is in the top 10%\n",
    "top_10_percent_salary = df['Salary'].quantile(0.9)\n",
    "print(\"\\n# Task 10: Rows where Department is 'Sales' and Salary in top 10%\")\n",
    "print(df[(df['Department'] == 'Sales') & (df['Salary'] >= top_10_percent_salary)])"
   ]
  },
  {
   "cell_type": "code",
   "execution_count": 14,
   "metadata": {
    "execution": {
     "iopub.execute_input": "2024-12-15T16:49:25.511734Z",
     "iopub.status.busy": "2024-12-15T16:49:25.511298Z",
     "iopub.status.idle": "2024-12-15T16:49:25.526157Z",
     "shell.execute_reply": "2024-12-15T16:49:25.524870Z",
     "shell.execute_reply.started": "2024-12-15T16:49:25.511694Z"
    }
   },
   "outputs": [
    {
     "name": "stdout",
     "output_type": "stream",
     "text": [
      "\n",
      "# Task 11: Replace 'Inactive' with 'Retired'\n",
      "       ID                Name   Status\n",
      "0       1        Cory Escobar   Active\n",
      "1       2     Timothy Sanchez  Retired\n",
      "2       3        Chad Nichols  Retired\n",
      "3       4  Christine Williams  Retired\n",
      "4       5        Amber Harris  Retired\n",
      "..    ...                 ...      ...\n",
      "995   996       Pamela Reeves   Active\n",
      "996   997        Todd Johnson  Retired\n",
      "997   998     Michael Sanchez   Active\n",
      "998   999       Ashley Taylor  Retired\n",
      "999  1000         Shawn Scott   Active\n",
      "\n",
      "[1000 rows x 3 columns]\n"
     ]
    }
   ],
   "source": [
    "# Task 11: Replace all \"Inactive\" values in the Status column with \"Retired\"\n",
    "print(\"\\n# Task 11: Replace 'Inactive' with 'Retired'\")\n",
    "df['Status'] = df['Status'].replace('Inactive', 'Retired')\n",
    "print(df[['ID', 'Name', 'Status']])\n"
   ]
  },
  {
   "cell_type": "code",
   "execution_count": 15,
   "metadata": {
    "execution": {
     "iopub.execute_input": "2024-12-15T16:49:25.529116Z",
     "iopub.status.busy": "2024-12-15T16:49:25.527726Z",
     "iopub.status.idle": "2024-12-15T16:49:25.548568Z",
     "shell.execute_reply": "2024-12-15T16:49:25.546993Z",
     "shell.execute_reply.started": "2024-12-15T16:49:25.529018Z"
    }
   },
   "outputs": [
    {
     "name": "stdout",
     "output_type": "stream",
     "text": [
      "\n",
      "# Task 12: Add a 'Bonus' column (10% of Salary)\n",
      "       ID                Name  Salary  Bonus\n",
      "0       1        Cory Escobar    5641  564.1\n",
      "1       2     Timothy Sanchez    4249  424.9\n",
      "2       3        Chad Nichols    3058  305.8\n",
      "3       4  Christine Williams    5895  589.5\n",
      "4       5        Amber Harris    4317  431.7\n",
      "..    ...                 ...     ...    ...\n",
      "995   996       Pamela Reeves    7652  765.2\n",
      "996   997        Todd Johnson    6754  675.4\n",
      "997   998     Michael Sanchez    5278  527.8\n",
      "998   999       Ashley Taylor    5437  543.7\n",
      "999  1000         Shawn Scott    7364  736.4\n",
      "\n",
      "[1000 rows x 4 columns]\n"
     ]
    }
   ],
   "source": [
    "# Task 12: Add a new column Bonus where values are 10% of the Salary column\n",
    "print(\"\\n# Task 12: Add a 'Bonus' column (10% of Salary)\")\n",
    "df['Bonus'] = df['Salary'] * 0.1\n",
    "print(df[['ID', 'Name', 'Salary', 'Bonus']])\n"
   ]
  },
  {
   "cell_type": "code",
   "execution_count": 16,
   "metadata": {
    "execution": {
     "iopub.execute_input": "2024-12-15T16:49:25.550831Z",
     "iopub.status.busy": "2024-12-15T16:49:25.550259Z",
     "iopub.status.idle": "2024-12-15T16:49:25.572125Z",
     "shell.execute_reply": "2024-12-15T16:49:25.570709Z",
     "shell.execute_reply.started": "2024-12-15T16:49:25.550774Z"
    }
   },
   "outputs": [
    {
     "name": "stdout",
     "output_type": "stream",
     "text": [
      "\n",
      "# Task 13: Update NaN Performance Score in 'IT' to 5\n",
      "       ID                Name Department  Performance Score\n",
      "0       1        Cory Escobar         HR                2.0\n",
      "1       2     Timothy Sanchez      Sales                2.0\n",
      "2       3        Chad Nichols      Sales                NaN\n",
      "3       4  Christine Williams         IT                2.0\n",
      "4       5        Amber Harris         IT                5.0\n",
      "..    ...                 ...        ...                ...\n",
      "995   996       Pamela Reeves      Sales                4.0\n",
      "996   997        Todd Johnson      Sales                NaN\n",
      "997   998     Michael Sanchez      Sales                5.0\n",
      "998   999       Ashley Taylor         IT                4.0\n",
      "999  1000         Shawn Scott         IT                2.0\n",
      "\n",
      "[1000 rows x 4 columns]\n"
     ]
    }
   ],
   "source": [
    "# Task 13: Update Performance Score of employees in \"IT\" to 5 if it is NaN\n",
    "print(\"\\n# Task 13: Update NaN Performance Score in 'IT' to 5\")\n",
    "df.loc[(df['Department'] == 'IT') & (df['Performance Score'].isna()), 'Performance Score'] = 5\n",
    "print(df[['ID', 'Name', 'Department', 'Performance Score']])\n"
   ]
  },
  {
   "cell_type": "code",
   "execution_count": 17,
   "metadata": {
    "execution": {
     "iopub.execute_input": "2024-12-15T16:49:25.574218Z",
     "iopub.status.busy": "2024-12-15T16:49:25.573671Z",
     "iopub.status.idle": "2024-12-15T16:49:25.593353Z",
     "shell.execute_reply": "2024-12-15T16:49:25.592145Z",
     "shell.execute_reply.started": "2024-12-15T16:49:25.574161Z"
    }
   },
   "outputs": [
    {
     "name": "stdout",
     "output_type": "stream",
     "text": [
      "\n",
      "# Task 14: Modify Experience < 2 to 2\n",
      "       ID                Name  Experience\n",
      "0       1        Cory Escobar          16\n",
      "1       2     Timothy Sanchez          11\n",
      "2       3        Chad Nichols           2\n",
      "3       4  Christine Williams          13\n",
      "4       5        Amber Harris          16\n",
      "..    ...                 ...         ...\n",
      "995   996       Pamela Reeves           3\n",
      "996   997        Todd Johnson          12\n",
      "997   998     Michael Sanchez           3\n",
      "998   999       Ashley Taylor           9\n",
      "999  1000         Shawn Scott           4\n",
      "\n",
      "[1000 rows x 3 columns]\n"
     ]
    }
   ],
   "source": [
    "# Task 14: Modify Experience of employees with less than 2 years to 2\n",
    "print(\"\\n# Task 14: Modify Experience < 2 to 2\")\n",
    "df.loc[df['Experience'] < 2, 'Experience'] = 2\n",
    "print(df[['ID', 'Name', 'Experience']])"
   ]
  },
  {
   "cell_type": "code",
   "execution_count": 18,
   "metadata": {
    "execution": {
     "iopub.execute_input": "2024-12-15T16:49:25.595646Z",
     "iopub.status.busy": "2024-12-15T16:49:25.595128Z",
     "iopub.status.idle": "2024-12-15T16:49:25.616525Z",
     "shell.execute_reply": "2024-12-15T16:49:25.614935Z",
     "shell.execute_reply.started": "2024-12-15T16:49:25.595592Z"
    }
   },
   "outputs": [
    {
     "name": "stdout",
     "output_type": "stream",
     "text": [
      "\n",
      "# Task 15: Normalize 'Salary' between 0 and 1\n",
      "       ID                Name  Salary  Salary_Normalized\n",
      "0       1        Cory Escobar    5641           0.454500\n",
      "1       2     Timothy Sanchez    4249           0.280020\n",
      "2       3        Chad Nichols    3058           0.130735\n",
      "3       4  Christine Williams    5895           0.486337\n",
      "4       5        Amber Harris    4317           0.288543\n",
      "..    ...                 ...     ...                ...\n",
      "995   996       Pamela Reeves    7652           0.706568\n",
      "996   997        Todd Johnson    6754           0.594009\n",
      "997   998     Michael Sanchez    5278           0.409000\n",
      "998   999       Ashley Taylor    5437           0.428930\n",
      "999  1000         Shawn Scott    7364           0.670469\n",
      "\n",
      "[1000 rows x 4 columns]\n"
     ]
    }
   ],
   "source": [
    "# Task 15: Normalize the Salary column so that all values are between 0 and 1\n",
    "print(\"\\n# Task 15: Normalize 'Salary' between 0 and 1\")\n",
    "df['Salary_Normalized'] = (df['Salary'] - df['Salary'].min()) / (df['Salary'].max() - df['Salary'].min())\n",
    "print(df[['ID', 'Name', 'Salary', 'Salary_Normalized']])"
   ]
  },
  {
   "cell_type": "code",
   "execution_count": 19,
   "metadata": {
    "execution": {
     "iopub.execute_input": "2024-12-15T16:49:25.619195Z",
     "iopub.status.busy": "2024-12-15T16:49:25.618182Z",
     "iopub.status.idle": "2024-12-15T16:49:25.640305Z",
     "shell.execute_reply": "2024-12-15T16:49:25.638360Z",
     "shell.execute_reply.started": "2024-12-15T16:49:25.619131Z"
    }
   },
   "outputs": [
    {
     "name": "stdout",
     "output_type": "stream",
     "text": [
      "\n",
      "# Task 16: Replace Location with 'Remote' for Performance Score < 3\n",
      "       ID                Name  Performance Score     Location\n",
      "0       1        Cory Escobar                2.0       Remote\n",
      "1       2     Timothy Sanchez                2.0       Remote\n",
      "2       3        Chad Nichols                NaN     New York\n",
      "3       4  Christine Williams                2.0       Remote\n",
      "4       5        Amber Harris                5.0     New York\n",
      "..    ...                 ...                ...          ...\n",
      "995   996       Pamela Reeves                4.0  Los Angeles\n",
      "996   997        Todd Johnson                NaN     New York\n",
      "997   998     Michael Sanchez                5.0     New York\n",
      "998   999       Ashley Taylor                4.0  Los Angeles\n",
      "999  1000         Shawn Scott                2.0       Remote\n",
      "\n",
      "[1000 rows x 4 columns]\n"
     ]
    }
   ],
   "source": [
    "# Task 16: Replace all Location values with \"Remote\" for employees with Performance Score below 3\n",
    "print(\"\\n# Task 16: Replace Location with 'Remote' for Performance Score < 3\")\n",
    "df.loc[df['Performance Score'] < 3, 'Location'] = 'Remote'\n",
    "if 'Location' in df.columns:  # If Location exists in your data\n",
    "    print(df[['ID', 'Name', 'Performance Score', 'Location']])"
   ]
  },
  {
   "cell_type": "code",
   "execution_count": 20,
   "metadata": {
    "execution": {
     "iopub.execute_input": "2024-12-15T16:49:25.643571Z",
     "iopub.status.busy": "2024-12-15T16:49:25.642181Z",
     "iopub.status.idle": "2024-12-15T16:49:25.671675Z",
     "shell.execute_reply": "2024-12-15T16:49:25.670348Z",
     "shell.execute_reply.started": "2024-12-15T16:49:25.643525Z"
    }
   },
   "outputs": [
    {
     "name": "stdout",
     "output_type": "stream",
     "text": [
      "\n",
      "# Task 17: Add 'Experience Level' column\n",
      "       ID                Name  Experience Experience Level\n",
      "0       1        Cory Escobar          16           Senior\n",
      "1       2     Timothy Sanchez          11           Senior\n",
      "2       3        Chad Nichols           2           Junior\n",
      "3       4  Christine Williams          13           Senior\n",
      "4       5        Amber Harris          16           Senior\n",
      "..    ...                 ...         ...              ...\n",
      "995   996       Pamela Reeves           3           Junior\n",
      "996   997        Todd Johnson          12           Senior\n",
      "997   998     Michael Sanchez           3           Junior\n",
      "998   999       Ashley Taylor           9              Mid\n",
      "999  1000         Shawn Scott           4           Junior\n",
      "\n",
      "[1000 rows x 4 columns]\n"
     ]
    }
   ],
   "source": [
    "# Task 17: Create a new column Experience Level: Junior, Mid, Senior\n",
    "print(\"\\n# Task 17: Add 'Experience Level' column\")\n",
    "df['Experience Level'] = pd.cut(\n",
    "    df['Experience'], bins=[0, 5, 10, float('inf')], labels=['Junior', 'Mid', 'Senior']\n",
    ")\n",
    "print(df[['ID', 'Name', 'Experience', 'Experience Level']])"
   ]
  },
  {
   "cell_type": "code",
   "execution_count": 21,
   "metadata": {
    "execution": {
     "iopub.execute_input": "2024-12-15T16:49:25.673755Z",
     "iopub.status.busy": "2024-12-15T16:49:25.673160Z",
     "iopub.status.idle": "2024-12-15T16:49:25.700166Z",
     "shell.execute_reply": "2024-12-15T16:49:25.698581Z",
     "shell.execute_reply.started": "2024-12-15T16:49:25.673699Z"
    }
   },
   "outputs": [
    {
     "name": "stdout",
     "output_type": "stream",
     "text": [
      "\n",
      "# Task 19: Delete 'Session' column\n",
      "Index(['ID', 'Name', 'Age', 'Gender', 'Department', 'Salary', 'Joining Date',\n",
      "       'Performance Score', 'Experience', 'Status', 'Location', 'Bonus',\n",
      "       'Salary_Normalized', 'Experience Level'],\n",
      "      dtype='object')\n"
     ]
    }
   ],
   "source": [
    "# Task 19: Delete the column \"Session\" from the DataFrame\n",
    "print(\"\\n# Task 19: Delete 'Session' column\")\n",
    "# Assuming a column named 'Session' exists in the original dataset\n",
    "if 'Session' in df.columns:\n",
    "    df = df.drop(columns=['Session'])\n",
    "print(df.columns)"
   ]
  },
  {
   "cell_type": "code",
   "execution_count": 22,
   "metadata": {
    "execution": {
     "iopub.execute_input": "2024-12-15T16:49:25.702980Z",
     "iopub.status.busy": "2024-12-15T16:49:25.702440Z",
     "iopub.status.idle": "2024-12-15T16:49:25.725514Z",
     "shell.execute_reply": "2024-12-15T16:49:25.724304Z",
     "shell.execute_reply.started": "2024-12-15T16:49:25.702923Z"
    }
   },
   "outputs": [
    {
     "name": "stdout",
     "output_type": "stream",
     "text": [
      "\n",
      "# Task 20: Delete rows where Age > 60\n",
      "       ID                Name  Age\n",
      "0       1        Cory Escobar   48\n",
      "1       2     Timothy Sanchez   25\n",
      "2       3        Chad Nichols   57\n",
      "3       4  Christine Williams   58\n",
      "4       5        Amber Harris   35\n",
      "..    ...                 ...  ...\n",
      "995   996       Pamela Reeves   49\n",
      "996   997        Todd Johnson   29\n",
      "997   998     Michael Sanchez   18\n",
      "998   999       Ashley Taylor   51\n",
      "999  1000         Shawn Scott   45\n",
      "\n",
      "[893 rows x 3 columns]\n"
     ]
    }
   ],
   "source": [
    "# Task 20: Delete rows where Age > 60\n",
    "print(\"\\n# Task 20: Delete rows where Age > 60\")\n",
    "df = df[df['Age'] <= 60]\n",
    "print(df[['ID', 'Name', 'Age']])"
   ]
  },
  {
   "cell_type": "code",
   "execution_count": 23,
   "metadata": {
    "execution": {
     "iopub.execute_input": "2024-12-15T16:49:25.728803Z",
     "iopub.status.busy": "2024-12-15T16:49:25.726940Z",
     "iopub.status.idle": "2024-12-15T16:49:25.749150Z",
     "shell.execute_reply": "2024-12-15T16:49:25.747813Z",
     "shell.execute_reply.started": "2024-12-15T16:49:25.728736Z"
    }
   },
   "outputs": [
    {
     "name": "stdout",
     "output_type": "stream",
     "text": [
      "\n",
      "# Task 20: Delete rows where Age > 60\n",
      "       ID                Name  Age\n",
      "0       1        Cory Escobar   48\n",
      "1       2     Timothy Sanchez   25\n",
      "2       3        Chad Nichols   57\n",
      "3       4  Christine Williams   58\n",
      "4       5        Amber Harris   35\n",
      "..    ...                 ...  ...\n",
      "995   996       Pamela Reeves   49\n",
      "996   997        Todd Johnson   29\n",
      "997   998     Michael Sanchez   18\n",
      "998   999       Ashley Taylor   51\n",
      "999  1000         Shawn Scott   45\n",
      "\n",
      "[893 rows x 3 columns]\n"
     ]
    }
   ],
   "source": [
    "# Task 20: Delete rows where Age > 60\n",
    "print(\"\\n# Task 20: Delete rows where Age > 60\")\n",
    "df = df[df['Age'] <= 60]\n",
    "print(df[['ID', 'Name', 'Age']])"
   ]
  },
  {
   "cell_type": "code",
   "execution_count": 24,
   "metadata": {
    "execution": {
     "iopub.execute_input": "2024-12-15T16:49:25.751279Z",
     "iopub.status.busy": "2024-12-15T16:49:25.750758Z",
     "iopub.status.idle": "2024-12-15T16:49:25.774774Z",
     "shell.execute_reply": "2024-12-15T16:49:25.773194Z",
     "shell.execute_reply.started": "2024-12-15T16:49:25.751222Z"
    }
   },
   "outputs": [
    {
     "name": "stdout",
     "output_type": "stream",
     "text": [
      "\n",
      "# Task 21: Add 'Age Group' column\n",
      "       ID                Name  Age    Age Group\n",
      "0       1        Cory Escobar   48  Middle-aged\n",
      "1       2     Timothy Sanchez   25        Young\n",
      "2       3        Chad Nichols   57       Senior\n",
      "3       4  Christine Williams   58       Senior\n",
      "4       5        Amber Harris   35  Middle-aged\n",
      "..    ...                 ...  ...          ...\n",
      "995   996       Pamela Reeves   49  Middle-aged\n",
      "996   997        Todd Johnson   29        Young\n",
      "997   998     Michael Sanchez   18        Young\n",
      "998   999       Ashley Taylor   51       Senior\n",
      "999  1000         Shawn Scott   45  Middle-aged\n",
      "\n",
      "[893 rows x 4 columns]\n"
     ]
    }
   ],
   "source": [
    "# Task 21: Add a new column Age Group with values 'Young', 'Middle-aged', or 'Senior'\n",
    "print(\"\\n# Task 21: Add 'Age Group' column\")\n",
    "df['Age Group'] = pd.cut(\n",
    "    df['Age'], bins=[0, 30, 50, float('inf')], labels=['Young', 'Middle-aged', 'Senior']\n",
    ")\n",
    "print(df[['ID', 'Name', 'Age', 'Age Group']])"
   ]
  },
  {
   "cell_type": "code",
   "execution_count": 25,
   "metadata": {
    "execution": {
     "iopub.execute_input": "2024-12-15T16:49:25.777631Z",
     "iopub.status.busy": "2024-12-15T16:49:25.777100Z",
     "iopub.status.idle": "2024-12-15T16:49:25.788137Z",
     "shell.execute_reply": "2024-12-15T16:49:25.786397Z",
     "shell.execute_reply.started": "2024-12-15T16:49:25.777575Z"
    }
   },
   "outputs": [
    {
     "name": "stdout",
     "output_type": "stream",
     "text": [
      "\n",
      "# Task 22: Identify columns with missing values\n",
      "ID                     0\n",
      "Name                   0\n",
      "Age                    0\n",
      "Gender                 0\n",
      "Department             0\n",
      "Salary                 0\n",
      "Joining Date           0\n",
      "Performance Score    291\n",
      "Experience             0\n",
      "Status                 0\n",
      "Location               0\n",
      "Bonus                  0\n",
      "Salary_Normalized      0\n",
      "Experience Level       0\n",
      "Age Group              0\n",
      "dtype: int64\n"
     ]
    }
   ],
   "source": [
    "# Task 22: Identify all columns with missing values using isna() method\n",
    "print(\"\\n# Task 22: Identify columns with missing values\")\n",
    "missing_values = df.isna().sum()\n",
    "print(missing_values)\n"
   ]
  },
  {
   "cell_type": "code",
   "execution_count": 26,
   "metadata": {
    "execution": {
     "iopub.execute_input": "2024-12-15T16:49:25.792304Z",
     "iopub.status.busy": "2024-12-15T16:49:25.790351Z",
     "iopub.status.idle": "2024-12-15T16:49:25.811291Z",
     "shell.execute_reply": "2024-12-15T16:49:25.809823Z",
     "shell.execute_reply.started": "2024-12-15T16:49:25.792240Z"
    }
   },
   "outputs": [
    {
     "name": "stdout",
     "output_type": "stream",
     "text": [
      "\n",
      "# Task 23: Fill missing 'Performance Score' with average score\n",
      "       ID                Name  Performance Score\n",
      "0       1        Cory Escobar            2.00000\n",
      "1       2     Timothy Sanchez            2.00000\n",
      "2       3        Chad Nichols            3.44186\n",
      "3       4  Christine Williams            2.00000\n",
      "4       5        Amber Harris            5.00000\n",
      "..    ...                 ...                ...\n",
      "995   996       Pamela Reeves            4.00000\n",
      "996   997        Todd Johnson            3.44186\n",
      "997   998     Michael Sanchez            5.00000\n",
      "998   999       Ashley Taylor            4.00000\n",
      "999  1000         Shawn Scott            2.00000\n",
      "\n",
      "[893 rows x 3 columns]\n"
     ]
    }
   ],
   "source": [
    "# Task 23: Fill missing values in Performance Score with the average score\n",
    "print(\"\\n# Task 23: Fill missing 'Performance Score' with average score\")\n",
    "average_score = df['Performance Score'].mean()\n",
    "df['Performance Score'] = df['Performance Score'].fillna(average_score)\n",
    "print(df[['ID', 'Name', 'Performance Score']])\n"
   ]
  },
  {
   "cell_type": "code",
   "execution_count": 27,
   "metadata": {
    "execution": {
     "iopub.execute_input": "2024-12-15T16:49:25.814420Z",
     "iopub.status.busy": "2024-12-15T16:49:25.813213Z",
     "iopub.status.idle": "2024-12-15T16:49:25.837073Z",
     "shell.execute_reply": "2024-12-15T16:49:25.835818Z",
     "shell.execute_reply.started": "2024-12-15T16:49:25.814361Z"
    }
   },
   "outputs": [
    {
     "name": "stdout",
     "output_type": "stream",
     "text": [
      "\n",
      "# Task 24: Drop rows with missing values\n",
      "       ID                Name  Age  Gender Department  Salary Joining Date  \\\n",
      "0       1        Cory Escobar   48  Female         HR    5641   2015-05-03   \n",
      "1       2     Timothy Sanchez   25   Other      Sales    4249   2020-11-09   \n",
      "2       3        Chad Nichols   57   Other      Sales    3058   2019-02-12   \n",
      "3       4  Christine Williams   58  Female         IT    5895   2017-09-08   \n",
      "4       5        Amber Harris   35   Other         IT    4317   2020-02-15   \n",
      "..    ...                 ...  ...     ...        ...     ...          ...   \n",
      "995   996       Pamela Reeves   49  Female      Sales    7652   2024-06-23   \n",
      "996   997        Todd Johnson   29  Female      Sales    6754   2018-07-20   \n",
      "997   998     Michael Sanchez   18    Male      Sales    5278   2023-07-05   \n",
      "998   999       Ashley Taylor   51  Female         IT    5437   2022-02-18   \n",
      "999  1000         Shawn Scott   45    Male         IT    7364   2022-07-31   \n",
      "\n",
      "     Performance Score  Experience   Status     Location  Bonus  \\\n",
      "0              2.00000          16   Active       Remote  564.1   \n",
      "1              2.00000          11  Retired       Remote  424.9   \n",
      "2              3.44186           2  Retired     New York  305.8   \n",
      "3              2.00000          13  Retired       Remote  589.5   \n",
      "4              5.00000          16  Retired     New York  431.7   \n",
      "..                 ...         ...      ...          ...    ...   \n",
      "995            4.00000           3   Active  Los Angeles  765.2   \n",
      "996            3.44186          12  Retired     New York  675.4   \n",
      "997            5.00000           3   Active     New York  527.8   \n",
      "998            4.00000           9  Retired  Los Angeles  543.7   \n",
      "999            2.00000           4   Active       Remote  736.4   \n",
      "\n",
      "     Salary_Normalized Experience Level    Age Group  \n",
      "0             0.454500           Senior  Middle-aged  \n",
      "1             0.280020           Senior        Young  \n",
      "2             0.130735           Junior       Senior  \n",
      "3             0.486337           Senior       Senior  \n",
      "4             0.288543           Senior  Middle-aged  \n",
      "..                 ...              ...          ...  \n",
      "995           0.706568           Junior  Middle-aged  \n",
      "996           0.594009           Senior        Young  \n",
      "997           0.409000           Junior        Young  \n",
      "998           0.428930              Mid       Senior  \n",
      "999           0.670469           Junior  Middle-aged  \n",
      "\n",
      "[893 rows x 15 columns]\n"
     ]
    }
   ],
   "source": [
    "# Task 24: Drop all rows with missing values using dropna()\n",
    "print(\"\\n# Task 24: Drop rows with missing values\")\n",
    "df = df.dropna()\n",
    "print(df)"
   ]
  },
  {
   "cell_type": "code",
   "execution_count": 28,
   "metadata": {
    "execution": {
     "iopub.execute_input": "2024-12-15T16:49:25.839296Z",
     "iopub.status.busy": "2024-12-15T16:49:25.838760Z",
     "iopub.status.idle": "2024-12-15T16:49:25.866738Z",
     "shell.execute_reply": "2024-12-15T16:49:25.865344Z",
     "shell.execute_reply.started": "2024-12-15T16:49:25.839238Z"
    }
   },
   "outputs": [
    {
     "name": "stdout",
     "output_type": "stream",
     "text": [
      "\n",
      "# Task 25: Replace missing 'Performance Score' with median by Department\n",
      "       ID                Name Department  Performance Score\n",
      "0       1        Cory Escobar         HR            2.00000\n",
      "1       2     Timothy Sanchez      Sales            2.00000\n",
      "2       3        Chad Nichols      Sales            3.44186\n",
      "3       4  Christine Williams         IT            2.00000\n",
      "4       5        Amber Harris         IT            5.00000\n",
      "..    ...                 ...        ...                ...\n",
      "995   996       Pamela Reeves      Sales            4.00000\n",
      "996   997        Todd Johnson      Sales            3.44186\n",
      "997   998     Michael Sanchez      Sales            5.00000\n",
      "998   999       Ashley Taylor         IT            4.00000\n",
      "999  1000         Shawn Scott         IT            2.00000\n",
      "\n",
      "[893 rows x 4 columns]\n"
     ]
    }
   ],
   "source": [
    "# Task 25: Replace missing Performance Score with the median, grouped by Department\n",
    "print(\"\\n# Task 25: Replace missing 'Performance Score' with median by Department\")\n",
    "df['Performance Score'] = df.groupby('Department')['Performance Score'].transform(\n",
    "    lambda x: x.fillna(x.median())\n",
    ")\n",
    "print(df[['ID', 'Name', 'Department', 'Performance Score']])"
   ]
  },
  {
   "cell_type": "code",
   "execution_count": 29,
   "metadata": {
    "execution": {
     "iopub.execute_input": "2024-12-15T16:49:25.870465Z",
     "iopub.status.busy": "2024-12-15T16:49:25.869599Z",
     "iopub.status.idle": "2024-12-15T16:49:25.888323Z",
     "shell.execute_reply": "2024-12-15T16:49:25.887141Z",
     "shell.execute_reply.started": "2024-12-15T16:49:25.870402Z"
    }
   },
   "outputs": [
    {
     "name": "stdout",
     "output_type": "stream",
     "text": [
      "\n",
      "# Task 26: Employees in 'IT' with Age > average IT Age\n",
      "       ID                Name  Age Department\n",
      "3       4  Christine Williams   58         IT\n",
      "33     34    Mr. Brian Nelson   42         IT\n",
      "34     35            Lisa Fry   51         IT\n",
      "41     42      Charles Mccall   58         IT\n",
      "47     48        Jake Johnson   48         IT\n",
      "..    ...                 ...  ...        ...\n",
      "979   980    Crystal Espinoza   55         IT\n",
      "984   985        Jeffrey Hall   41         IT\n",
      "986   987     Melissa Bradley   39         IT\n",
      "998   999       Ashley Taylor   51         IT\n",
      "999  1000         Shawn Scott   45         IT\n",
      "\n",
      "[150 rows x 4 columns]\n"
     ]
    }
   ],
   "source": [
    "# Task 26: Rows where employee is in 'IT' and Age > average Age of IT employees\n",
    "print(\"\\n# Task 26: Employees in 'IT' with Age > average IT Age\")\n",
    "it_avg_age = df[df['Department'] == 'IT']['Age'].mean()\n",
    "it_employees = df[(df['Department'] == 'IT') & (df['Age'] > it_avg_age)]\n",
    "print(it_employees[['ID', 'Name', 'Age', 'Department']])"
   ]
  },
  {
   "cell_type": "code",
   "execution_count": 30,
   "metadata": {
    "execution": {
     "iopub.execute_input": "2024-12-15T16:49:25.897152Z",
     "iopub.status.busy": "2024-12-15T16:49:25.896363Z",
     "iopub.status.idle": "2024-12-15T16:49:25.919164Z",
     "shell.execute_reply": "2024-12-15T16:49:25.917828Z",
     "shell.execute_reply.started": "2024-12-15T16:49:25.897089Z"
    }
   },
   "outputs": [
    {
     "name": "stdout",
     "output_type": "stream",
     "text": [
      "\n",
      "# Task 27: Remove duplicates by 'Name' and 'Joining Date'\n",
      "       ID                Name  Age  Gender Department  Salary Joining Date  \\\n",
      "0       1        Cory Escobar   48  Female         HR    5641   2015-05-03   \n",
      "1       2     Timothy Sanchez   25   Other      Sales    4249   2020-11-09   \n",
      "2       3        Chad Nichols   57   Other      Sales    3058   2019-02-12   \n",
      "3       4  Christine Williams   58  Female         IT    5895   2017-09-08   \n",
      "4       5        Amber Harris   35   Other         IT    4317   2020-02-15   \n",
      "..    ...                 ...  ...     ...        ...     ...          ...   \n",
      "995   996       Pamela Reeves   49  Female      Sales    7652   2024-06-23   \n",
      "996   997        Todd Johnson   29  Female      Sales    6754   2018-07-20   \n",
      "997   998     Michael Sanchez   18    Male      Sales    5278   2023-07-05   \n",
      "998   999       Ashley Taylor   51  Female         IT    5437   2022-02-18   \n",
      "999  1000         Shawn Scott   45    Male         IT    7364   2022-07-31   \n",
      "\n",
      "     Performance Score  Experience   Status     Location  Bonus  \\\n",
      "0              2.00000          16   Active       Remote  564.1   \n",
      "1              2.00000          11  Retired       Remote  424.9   \n",
      "2              3.44186           2  Retired     New York  305.8   \n",
      "3              2.00000          13  Retired       Remote  589.5   \n",
      "4              5.00000          16  Retired     New York  431.7   \n",
      "..                 ...         ...      ...          ...    ...   \n",
      "995            4.00000           3   Active  Los Angeles  765.2   \n",
      "996            3.44186          12  Retired     New York  675.4   \n",
      "997            5.00000           3   Active     New York  527.8   \n",
      "998            4.00000           9  Retired  Los Angeles  543.7   \n",
      "999            2.00000           4   Active       Remote  736.4   \n",
      "\n",
      "     Salary_Normalized Experience Level    Age Group  \n",
      "0             0.454500           Senior  Middle-aged  \n",
      "1             0.280020           Senior        Young  \n",
      "2             0.130735           Junior       Senior  \n",
      "3             0.486337           Senior       Senior  \n",
      "4             0.288543           Senior  Middle-aged  \n",
      "..                 ...              ...          ...  \n",
      "995           0.706568           Junior  Middle-aged  \n",
      "996           0.594009           Senior        Young  \n",
      "997           0.409000           Junior        Young  \n",
      "998           0.428930              Mid       Senior  \n",
      "999           0.670469           Junior  Middle-aged  \n",
      "\n",
      "[893 rows x 15 columns]\n"
     ]
    }
   ],
   "source": [
    "# Task 27: Identify rows with duplicate Name and Joining Date combinations, and remove duplicates\n",
    "print(\"\\n# Task 27: Remove duplicates by 'Name' and 'Joining Date'\")\n",
    "df = df.drop_duplicates(subset=['Name', 'Joining Date'])\n",
    "print(df)"
   ]
  },
  {
   "cell_type": "code",
   "execution_count": 31,
   "metadata": {
    "execution": {
     "iopub.execute_input": "2024-12-15T16:49:25.921564Z",
     "iopub.status.busy": "2024-12-15T16:49:25.920665Z",
     "iopub.status.idle": "2024-12-15T16:49:25.937505Z",
     "shell.execute_reply": "2024-12-15T16:49:25.936287Z",
     "shell.execute_reply.started": "2024-12-15T16:49:25.921502Z"
    }
   },
   "outputs": [
    {
     "name": "stdout",
     "output_type": "stream",
     "text": [
      "\n",
      "# Task 28: Remove rows where Experience > Age - 18\n",
      "       ID                Name  Age  Experience\n",
      "0       1        Cory Escobar   48          16\n",
      "2       3        Chad Nichols   57           2\n",
      "3       4  Christine Williams   58          13\n",
      "4       5        Amber Harris   35          16\n",
      "5       6         Ashley Howe   29           6\n",
      "..    ...                 ...  ...         ...\n",
      "990   991        Amy Johnston   53           8\n",
      "993   994       Brandon Bruce   31          12\n",
      "995   996       Pamela Reeves   49           3\n",
      "998   999       Ashley Taylor   51           9\n",
      "999  1000         Shawn Scott   45           4\n",
      "\n",
      "[659 rows x 4 columns]\n"
     ]
    }
   ],
   "source": [
    "# Task 28: Remove rows where Experience > Age - 18\n",
    "print(\"\\n# Task 28: Remove rows where Experience > Age - 18\")\n",
    "df = df[df['Experience'] <= (df['Age'] - 18)]\n",
    "print(df[['ID', 'Name', 'Age', 'Experience']])"
   ]
  },
  {
   "cell_type": "code",
   "execution_count": 32,
   "metadata": {
    "execution": {
     "iopub.execute_input": "2024-12-15T16:49:25.941082Z",
     "iopub.status.busy": "2024-12-15T16:49:25.938968Z",
     "iopub.status.idle": "2024-12-15T16:49:25.958679Z",
     "shell.execute_reply": "2024-12-15T16:49:25.957330Z",
     "shell.execute_reply.started": "2024-12-15T16:49:25.940985Z"
    }
   },
   "outputs": [
    {
     "name": "stdout",
     "output_type": "stream",
     "text": [
      "\n",
      "# Task 29: Sort by Salary in descending order\n",
      "      ID                Name  Salary\n",
      "811  812        Jesse Miller    9993\n",
      "531  532  Jeffrey Williamson    9988\n",
      "937  938       Gary Mitchell    9963\n",
      "908  909       Sara Martinez    9951\n",
      "120  121       David Hampton    9941\n",
      "..   ...                 ...     ...\n",
      "426  427      Patricia Scott    2041\n",
      "882  883      Jaclyn Collins    2029\n",
      "76    77       Victor Nelson    2025\n",
      "473  474        David Potter    2016\n",
      "906  907   Christina Carlson    2015\n",
      "\n",
      "[659 rows x 3 columns]\n"
     ]
    }
   ],
   "source": [
    "# Task 29: Sort the DataFrame by Salary in descending order\n",
    "print(\"\\n# Task 29: Sort by Salary in descending order\")\n",
    "df = df.sort_values(by='Salary', ascending=False)\n",
    "print(df[['ID', 'Name', 'Salary']])"
   ]
  },
  {
   "cell_type": "code",
   "execution_count": 33,
   "metadata": {
    "execution": {
     "iopub.execute_input": "2024-12-15T16:49:25.962001Z",
     "iopub.status.busy": "2024-12-15T16:49:25.961446Z",
     "iopub.status.idle": "2024-12-15T16:49:25.980247Z",
     "shell.execute_reply": "2024-12-15T16:49:25.978784Z",
     "shell.execute_reply.started": "2024-12-15T16:49:25.961942Z"
    }
   },
   "outputs": [
    {
     "name": "stdout",
     "output_type": "stream",
     "text": [
      "\n",
      "# Task 30: Sort by Department and then by Joining Date\n",
      "      ID               Name Department Joining Date\n",
      "514  515  Taylor Williamson         HR   2015-03-10\n",
      "11    12  Rodney Richardson         HR   2015-03-14\n",
      "7      8       Amanda Baker         HR   2015-04-01\n",
      "677  678    Michelle Durham         HR   2015-04-25\n",
      "0      1       Cory Escobar         HR   2015-05-03\n",
      "..   ...                ...        ...          ...\n",
      "405  406      Heather Scott      Sales   2024-08-18\n",
      "864  865     Jessica Garcia      Sales   2024-08-23\n",
      "819  820         Amber Ward      Sales   2024-09-19\n",
      "141  142  Matthew Gutierrez      Sales   2024-10-22\n",
      "169  170      George Bowers      Sales   2024-12-07\n",
      "\n",
      "[659 rows x 4 columns]\n"
     ]
    }
   ],
   "source": [
    "# Task 30: Sort the DataFrame by Department and then by Joining Date in ascending order\n",
    "print(\"\\n# Task 30: Sort by Department and then by Joining Date\")\n",
    "df = df.sort_values(by=['Department', 'Joining Date'])\n",
    "print(df[['ID', 'Name', 'Department', 'Joining Date']])"
   ]
  },
  {
   "cell_type": "code",
   "execution_count": 34,
   "metadata": {
    "execution": {
     "iopub.execute_input": "2024-12-15T16:49:25.982996Z",
     "iopub.status.busy": "2024-12-15T16:49:25.981727Z",
     "iopub.status.idle": "2024-12-15T16:49:26.007355Z",
     "shell.execute_reply": "2024-12-15T16:49:26.006132Z",
     "shell.execute_reply.started": "2024-12-15T16:49:25.982936Z"
    }
   },
   "outputs": [
    {
     "name": "stdout",
     "output_type": "stream",
     "text": [
      "\n",
      "# Task 31: Rank employees by Salary within each Department\n",
      "      ID               Name Department  Salary  Salary Rank\n",
      "514  515  Taylor Williamson         HR    9293         15.0\n",
      "11    12  Rodney Richardson         HR    6908         81.0\n",
      "7      8       Amanda Baker         HR    6285        103.0\n",
      "677  678    Michelle Durham         HR    5900        110.0\n",
      "0      1       Cory Escobar         HR    5641        114.0\n",
      "..   ...                ...        ...     ...          ...\n",
      "405  406      Heather Scott      Sales    9505         14.0\n",
      "864  865     Jessica Garcia      Sales    8619         35.0\n",
      "819  820         Amber Ward      Sales    7880         59.0\n",
      "141  142  Matthew Gutierrez      Sales    5883        115.0\n",
      "169  170      George Bowers      Sales    6041        111.0\n",
      "\n",
      "[659 rows x 5 columns]\n"
     ]
    }
   ],
   "source": [
    "# Task 31: Rank all employees by Salary within their Department and add the rank as a new column\n",
    "print(\"\\n# Task 31: Rank employees by Salary within each Department\")\n",
    "df['Salary Rank'] = df.groupby('Department')['Salary'].rank(ascending=False)\n",
    "print(df[['ID', 'Name', 'Department', 'Salary', 'Salary Rank']])"
   ]
  },
  {
   "cell_type": "code",
   "execution_count": 35,
   "metadata": {
    "execution": {
     "iopub.execute_input": "2024-12-15T16:49:26.009359Z",
     "iopub.status.busy": "2024-12-15T16:49:26.008813Z",
     "iopub.status.idle": "2024-12-15T16:49:26.028721Z",
     "shell.execute_reply": "2024-12-15T16:49:26.026922Z",
     "shell.execute_reply.started": "2024-12-15T16:49:26.009308Z"
    }
   },
   "outputs": [
    {
     "name": "stdout",
     "output_type": "stream",
     "text": [
      "\n",
      "# Task 32: Sort by Experience (desc) and Performance Score (asc)\n",
      "      ID                        Name  Experience  Performance Score\n",
      "538  539              Brandon Church          20                1.0\n",
      "355  356              Laura Castillo          20                1.0\n",
      "402  403               Briana Martin          20                1.0\n",
      "828  829              Michael Snyder          20                1.0\n",
      "529  530                  Katie Vega          20                2.0\n",
      "..   ...                         ...         ...                ...\n",
      "143  144                 Dana Potter           2                5.0\n",
      "987  988              Danielle Brown           2                5.0\n",
      "364  365  Mrs. Jacqueline Woodard MD           2                5.0\n",
      "228  229             Christie Warren           2                5.0\n",
      "491  492     Dr. Jacob Castaneda DVM           2                5.0\n",
      "\n",
      "[659 rows x 4 columns]\n"
     ]
    }
   ],
   "source": [
    "# Task 32: Sort the dataset by Experience in descending order, break ties using Performance Score in ascending order\n",
    "print(\"\\n# Task 32: Sort by Experience (desc) and Performance Score (asc)\")\n",
    "df = df.sort_values(by=['Experience', 'Performance Score'], ascending=[False, True])\n",
    "print(df[['ID', 'Name', 'Experience', 'Performance Score']])\n"
   ]
  },
  {
   "cell_type": "code",
   "execution_count": 36,
   "metadata": {
    "execution": {
     "iopub.execute_input": "2024-12-15T16:49:26.031504Z",
     "iopub.status.busy": "2024-12-15T16:49:26.030523Z",
     "iopub.status.idle": "2024-12-15T16:49:26.049954Z",
     "shell.execute_reply": "2024-12-15T16:49:26.048676Z",
     "shell.execute_reply.started": "2024-12-15T16:49:26.031458Z"
    }
   },
   "outputs": [
    {
     "name": "stdout",
     "output_type": "stream",
     "text": [
      "\n",
      "# Task 33: Create DataFrame with employees in 'HR' and Salary > 5000\n",
      "      ID                   Name  Salary Department\n",
      "538  539         Brandon Church    8388         HR\n",
      "529  530             Katie Vega    7002         HR\n",
      "330  331              Juan Dean    6830         HR\n",
      "870  871            Nicole Cook    8495         HR\n",
      "165  166           Caleb Coffey    6194         HR\n",
      "..   ...                    ...     ...        ...\n",
      "119  120         Heidi Franklin    7187         HR\n",
      "513  514  Miss Alyssa Perez DDS    8297         HR\n",
      "599  600          Stephen Weber    7375         HR\n",
      "643  644          Rebecca Avery    6918         HR\n",
      "732  733              Jay Evans    8147         HR\n",
      "\n",
      "[128 rows x 4 columns]\n"
     ]
    }
   ],
   "source": [
    "# Task 33: Create a new DataFrame containing only employees in 'HR' with Salary > 5000\n",
    "print(\"\\n# Task 33: Create DataFrame with employees in 'HR' and Salary > 5000\")\n",
    "hr_high_salary = df[(df['Department'] == 'HR') & (df['Salary'] > 5000)]\n",
    "print(hr_high_salary[['ID', 'Name', 'Salary', 'Department']])"
   ]
  },
  {
   "cell_type": "code",
   "execution_count": 37,
   "metadata": {
    "execution": {
     "iopub.execute_input": "2024-12-15T16:49:26.051977Z",
     "iopub.status.busy": "2024-12-15T16:49:26.051466Z",
     "iopub.status.idle": "2024-12-15T16:49:26.081225Z",
     "shell.execute_reply": "2024-12-15T16:49:26.079497Z",
     "shell.execute_reply.started": "2024-12-15T16:49:26.051921Z"
    }
   },
   "outputs": [
    {
     "name": "stdout",
     "output_type": "stream",
     "text": [
      "\n",
      "# Task 34: Filter out rows where Location is 'Chicago'\n",
      "      ID                     Name     Location\n",
      "538  539           Brandon Church       Remote\n",
      "355  356           Laura Castillo       Remote\n",
      "402  403            Briana Martin       Remote\n",
      "828  829           Michael Snyder       Remote\n",
      "529  530               Katie Vega       Remote\n",
      "..   ...                      ...          ...\n",
      "709  710              Jacob Woods     New York\n",
      "651  652           Julian Maxwell  Los Angeles\n",
      "438  439         Mrs. Lisa Suarez  Los Angeles\n",
      "143  144              Dana Potter     New York\n",
      "491  492  Dr. Jacob Castaneda DVM  Los Angeles\n",
      "\n",
      "[492 rows x 3 columns]\n"
     ]
    }
   ],
   "source": [
    "# Task 34: Filter out all rows where the Location is 'Chicago'\n",
    "print(\"\\n# Task 34: Filter out rows where Location is 'Chicago'\")\n",
    "df_filtered_location = df[df['Location'] != 'Chicago']\n",
    "print(df_filtered_location[['ID', 'Name', 'Location']])\n"
   ]
  },
  {
   "cell_type": "code",
   "execution_count": 38,
   "metadata": {
    "execution": {
     "iopub.execute_input": "2024-12-15T16:49:26.084061Z",
     "iopub.status.busy": "2024-12-15T16:49:26.083403Z",
     "iopub.status.idle": "2024-12-15T16:49:26.112606Z",
     "shell.execute_reply": "2024-12-15T16:49:26.111154Z",
     "shell.execute_reply.started": "2024-12-15T16:49:26.083977Z"
    }
   },
   "outputs": [
    {
     "name": "stdout",
     "output_type": "stream",
     "text": [
      "\n",
      "# Task 35: Delete rows where Performance Score < 2\n",
      "      ID                        Name  Performance Score\n",
      "529  530                  Katie Vega            2.00000\n",
      "808  809             Matthew Bonilla            2.00000\n",
      "854  855                   Amy Heath            2.00000\n",
      "765  766                 Steve Smith            2.00000\n",
      "287  288               Michele Roman            3.44186\n",
      "..   ...                         ...                ...\n",
      "143  144                 Dana Potter            5.00000\n",
      "987  988              Danielle Brown            5.00000\n",
      "364  365  Mrs. Jacqueline Woodard MD            5.00000\n",
      "228  229             Christie Warren            5.00000\n",
      "491  492     Dr. Jacob Castaneda DVM            5.00000\n",
      "\n",
      "[584 rows x 3 columns]\n"
     ]
    }
   ],
   "source": [
    "# Task 35: Delete all rows where the Performance Score is below 2\n",
    "print(\"\\n# Task 35: Delete rows where Performance Score < 2\")\n",
    "df = df[df['Performance Score'] >= 2]\n",
    "print(df[['ID', 'Name', 'Performance Score']])\n"
   ]
  },
  {
   "cell_type": "code",
   "execution_count": 39,
   "metadata": {
    "execution": {
     "iopub.execute_input": "2024-12-15T16:49:26.115848Z",
     "iopub.status.busy": "2024-12-15T16:49:26.114807Z",
     "iopub.status.idle": "2024-12-15T16:49:26.142483Z",
     "shell.execute_reply": "2024-12-15T16:49:26.140827Z",
     "shell.execute_reply.started": "2024-12-15T16:49:26.115785Z"
    }
   },
   "outputs": [
    {
     "name": "stdout",
     "output_type": "stream",
     "text": [
      "\n",
      "# Task 36: Average Salary for each Department\n",
      "Department\n",
      "HR       5955.85000\n",
      "IT       5903.08867\n",
      "Sales    5843.18408\n",
      "Name: Salary, dtype: float64\n"
     ]
    }
   ],
   "source": [
    "# Task 36: Find the average Salary for each Department\n",
    "print(\"\\n# Task 36: Average Salary for each Department\")\n",
    "avg_salary_by_dept = df.groupby('Department')['Salary'].mean()\n",
    "print(avg_salary_by_dept)"
   ]
  },
  {
   "cell_type": "code",
   "execution_count": 40,
   "metadata": {
    "execution": {
     "iopub.execute_input": "2024-12-15T16:49:26.145353Z",
     "iopub.status.busy": "2024-12-15T16:49:26.143998Z",
     "iopub.status.idle": "2024-12-15T16:49:26.171374Z",
     "shell.execute_reply": "2024-12-15T16:49:26.170104Z",
     "shell.execute_reply.started": "2024-12-15T16:49:26.145283Z"
    }
   },
   "outputs": [
    {
     "name": "stdout",
     "output_type": "stream",
     "text": [
      "\n",
      "# Task 37: Total Salary grouped by Status\n",
      "Status\n",
      "Active     1709221\n",
      "Retired    1735639\n",
      "Name: Salary, dtype: int64\n"
     ]
    }
   ],
   "source": [
    "# Task 37: Calculate the total Salary of all employees grouped by Status\n",
    "print(\"\\n# Task 37: Total Salary grouped by Status\")\n",
    "total_salary_by_status = df.groupby('Status')['Salary'].sum()\n",
    "print(total_salary_by_status)"
   ]
  },
  {
   "cell_type": "code",
   "execution_count": 41,
   "metadata": {
    "execution": {
     "iopub.execute_input": "2024-12-15T16:49:26.173638Z",
     "iopub.status.busy": "2024-12-15T16:49:26.173103Z",
     "iopub.status.idle": "2024-12-15T16:49:26.203303Z",
     "shell.execute_reply": "2024-12-15T16:49:26.202081Z",
     "shell.execute_reply.started": "2024-12-15T16:49:26.173582Z"
    }
   },
   "outputs": [
    {
     "name": "stdout",
     "output_type": "stream",
     "text": [
      "\n",
      "# Task 38: Maximum Performance Score for each Location\n",
      "Location\n",
      "Chicago        5.0\n",
      "Los Angeles    5.0\n",
      "New York       5.0\n",
      "Remote         2.0\n",
      "Name: Performance Score, dtype: float64\n"
     ]
    }
   ],
   "source": [
    "# Task 38: Find the maximum Performance Score for employees in each Location\n",
    "print(\"\\n# Task 38: Maximum Performance Score for each Location\")\n",
    "max_performance_by_location = df.groupby('Location')['Performance Score'].max()\n",
    "print(max_performance_by_location)"
   ]
  },
  {
   "cell_type": "code",
   "execution_count": 42,
   "metadata": {
    "execution": {
     "iopub.execute_input": "2024-12-15T16:49:26.205256Z",
     "iopub.status.busy": "2024-12-15T16:49:26.204732Z",
     "iopub.status.idle": "2024-12-15T16:49:26.216985Z",
     "shell.execute_reply": "2024-12-15T16:49:26.215635Z",
     "shell.execute_reply.started": "2024-12-15T16:49:26.205193Z"
    }
   },
   "outputs": [
    {
     "name": "stdout",
     "output_type": "stream",
     "text": [
      "\n",
      "# Task 40: Department with the highest average Performance Score\n",
      "The department with the highest average Performance Score is: IT\n"
     ]
    }
   ],
   "source": [
    "# Task 40: Find the department with the highest average Performance Score\n",
    "print(\"\\n# Task 40: Department with the highest average Performance Score\")\n",
    "avg_perf_by_dept = df.groupby('Department')['Performance Score'].mean()\n",
    "highest_perf_dept = avg_perf_by_dept.idxmax()\n",
    "print(f\"The department with the highest average Performance Score is: {highest_perf_dept}\")"
   ]
  },
  {
   "cell_type": "code",
   "execution_count": 43,
   "metadata": {
    "execution": {
     "iopub.execute_input": "2024-12-15T16:49:26.220083Z",
     "iopub.status.busy": "2024-12-15T16:49:26.219158Z",
     "iopub.status.idle": "2024-12-15T16:49:26.259957Z",
     "shell.execute_reply": "2024-12-15T16:49:26.258102Z",
     "shell.execute_reply.started": "2024-12-15T16:49:26.220002Z"
    }
   },
   "outputs": [
    {
     "name": "stdout",
     "output_type": "stream",
     "text": [
      "\n",
      "# Task 39: Total Salary paid to employees who joined in each year\n",
      "Joining Year\n",
      "2014     15135\n",
      "2015    275743\n",
      "2016    370821\n",
      "2017    313615\n",
      "2018    392152\n",
      "2019    325801\n",
      "2020    360210\n",
      "2021    372695\n",
      "2022    289763\n",
      "2023    423272\n",
      "2024    305653\n",
      "Name: Salary, dtype: int64\n"
     ]
    }
   ],
   "source": [
    "# Task 39: Calculate the total Salary paid to employees who joined in each year\n",
    "print(\"\\n# Task 39: Total Salary paid to employees who joined in each year\")\n",
    "# Extract the year from the 'Joining Date' column\n",
    "df['Joining Year'] = pd.to_datetime(df['Joining Date']).dt.year\n",
    "# Group by the 'Joining Year' and calculate the total salary for each year\n",
    "total_salary_by_year = df.groupby('Joining Year')['Salary'].sum()\n",
    "print(total_salary_by_year)\n"
   ]
  },
  {
   "cell_type": "code",
   "execution_count": 44,
   "metadata": {
    "execution": {
     "iopub.execute_input": "2024-12-15T16:50:33.785147Z",
     "iopub.status.busy": "2024-12-15T16:50:33.784667Z",
     "iopub.status.idle": "2024-12-15T16:50:33.793436Z",
     "shell.execute_reply": "2024-12-15T16:50:33.791752Z",
     "shell.execute_reply.started": "2024-12-15T16:50:33.785111Z"
    }
   },
   "outputs": [
    {
     "name": "stdout",
     "output_type": "stream",
     "text": [
      "\n",
      "# Task 41: Count the number of employees in each Location grouped by Session\n"
     ]
    }
   ],
   "source": [
    "# Task 41: Count the number of employees in each Location grouped by their Session\n",
    "print(\"\\n# Task 41: Count the number of employees in each Location grouped by Session\")\n",
    "# Assuming 'Session' is a column, group by 'Location' and 'Session', then count the number of employees\n",
    "if 'Session' in df.columns:\n",
    "    count_by_location_session = df.groupby(['Location', 'Session']).size()\n",
    "    print(count_by_location_session)"
   ]
  },
  {
   "cell_type": "code",
   "execution_count": 45,
   "metadata": {
    "execution": {
     "iopub.execute_input": "2024-12-15T16:50:43.697142Z",
     "iopub.status.busy": "2024-12-15T16:50:43.696642Z",
     "iopub.status.idle": "2024-12-15T16:50:43.710641Z",
     "shell.execute_reply": "2024-12-15T16:50:43.708777Z",
     "shell.execute_reply.started": "2024-12-15T16:50:43.697102Z"
    }
   },
   "outputs": [
    {
     "name": "stdout",
     "output_type": "stream",
     "text": [
      "\n",
      "# Task 42: Group by Status and calculate sum, mean, and std of Salary\n",
      "             sum         mean          std\n",
      "Status                                    \n",
      "Active   1709221  5873.611684  2318.058399\n",
      "Retired  1735639  5923.682594  2359.371700\n"
     ]
    }
   ],
   "source": [
    "# Task 42: Group employees by Status and calculate the sum, mean, and standard deviation of their Salary\n",
    "print(\"\\n# Task 42: Group by Status and calculate sum, mean, and std of Salary\")\n",
    "salary_stats_by_status = df.groupby('Status')['Salary'].agg(['sum', 'mean', 'std'])\n",
    "print(salary_stats_by_status)"
   ]
  },
  {
   "cell_type": "code",
   "execution_count": 46,
   "metadata": {
    "execution": {
     "iopub.execute_input": "2024-12-15T16:50:58.904181Z",
     "iopub.status.busy": "2024-12-15T16:50:58.903662Z",
     "iopub.status.idle": "2024-12-15T16:50:58.918669Z",
     "shell.execute_reply": "2024-12-15T16:50:58.917097Z",
     "shell.execute_reply.started": "2024-12-15T16:50:58.904139Z"
    }
   },
   "outputs": [
    {
     "name": "stdout",
     "output_type": "stream",
     "text": [
      "\n",
      "# Task 43: Create 'Monthly Salary' column by dividing Salary by 12\n",
      "      ID                        Name  Salary  Monthly Salary\n",
      "529  530                  Katie Vega    7002      583.500000\n",
      "808  809             Matthew Bonilla    9092      757.666667\n",
      "854  855                   Amy Heath    6897      574.750000\n",
      "765  766                 Steve Smith    3414      284.500000\n",
      "287  288               Michele Roman    3162      263.500000\n",
      "..   ...                         ...     ...             ...\n",
      "143  144                 Dana Potter    6368      530.666667\n",
      "987  988              Danielle Brown    5605      467.083333\n",
      "364  365  Mrs. Jacqueline Woodard MD    5988      499.000000\n",
      "228  229             Christie Warren    9139      761.583333\n",
      "491  492     Dr. Jacob Castaneda DVM    9181      765.083333\n",
      "\n",
      "[584 rows x 4 columns]\n"
     ]
    }
   ],
   "source": [
    "# Task 43: Use the apply() method to create a new column 'Monthly Salary' by dividing the Salary by 12\n",
    "print(\"\\n# Task 43: Create 'Monthly Salary' column by dividing Salary by 12\")\n",
    "df['Monthly Salary'] = df['Salary'].apply(lambda x: x / 12)\n",
    "print(df[['ID', 'Name', 'Salary', 'Monthly Salary']])"
   ]
  },
  {
   "cell_type": "code",
   "execution_count": 49,
   "metadata": {
    "execution": {
     "iopub.execute_input": "2024-12-15T16:51:50.526643Z",
     "iopub.status.busy": "2024-12-15T16:51:50.524834Z",
     "iopub.status.idle": "2024-12-15T16:51:50.550105Z",
     "shell.execute_reply": "2024-12-15T16:51:50.548172Z",
     "shell.execute_reply.started": "2024-12-15T16:51:50.526574Z"
    }
   },
   "outputs": [
    {
     "name": "stdout",
     "output_type": "stream",
     "text": [
      "\n",
      "# Task 45: Perform an inner join with Department and Budget dataset\n",
      "      ID                        Name Department  Salary  Budget\n",
      "0    530                  Katie Vega         HR    7002   50000\n",
      "1    809             Matthew Bonilla         IT    9092   70000\n",
      "2    855                   Amy Heath      Sales    6897   60000\n",
      "3    766                 Steve Smith      Sales    3414   60000\n",
      "4    288               Michele Roman         HR    3162   50000\n",
      "..   ...                         ...        ...     ...     ...\n",
      "579  144                 Dana Potter         IT    6368   70000\n",
      "580  988              Danielle Brown         IT    5605   70000\n",
      "581  365  Mrs. Jacqueline Woodard MD      Sales    5988   60000\n",
      "582  229             Christie Warren      Sales    9139   60000\n",
      "583  492     Dr. Jacob Castaneda DVM      Sales    9181   60000\n",
      "\n",
      "[584 rows x 5 columns]\n"
     ]
    }
   ],
   "source": [
    "# Task 45: Create a second dataset containing Department and Budget. Perform an inner join with the original dataset\n",
    "print(\"\\n# Task 45: Perform an inner join with Department and Budget dataset\")\n",
    "budget_data = {\n",
    "    'Department': ['HR', 'Sales', 'IT'],\n",
    "    'Budget': [50000, 60000, 70000]\n",
    "}\n",
    "budget_df = pd.DataFrame(budget_data)\n",
    "df_with_budget = pd.merge(df, budget_df, on='Department', how='inner')\n",
    "print(df_with_budget[['ID', 'Name', 'Department', 'Salary', 'Budget']])\n"
   ]
  },
  {
   "cell_type": "code",
   "execution_count": 53,
   "metadata": {
    "execution": {
     "iopub.execute_input": "2024-12-15T16:52:38.339867Z",
     "iopub.status.busy": "2024-12-15T16:52:38.339324Z",
     "iopub.status.idle": "2024-12-15T16:52:38.357798Z",
     "shell.execute_reply": "2024-12-15T16:52:38.356279Z",
     "shell.execute_reply.started": "2024-12-15T16:52:38.339825Z"
    }
   },
   "outputs": [
    {
     "name": "stdout",
     "output_type": "stream",
     "text": [
      "\n",
      "# Task 46: Merge with dataset containing Employee ID and Projects\n",
      "      ID                        Name Recent Projects\n",
      "0    530                  Katie Vega             NaN\n",
      "1    809             Matthew Bonilla             NaN\n",
      "2    855                   Amy Heath             NaN\n",
      "3    766                 Steve Smith             NaN\n",
      "4    288               Michele Roman             NaN\n",
      "..   ...                         ...             ...\n",
      "579  144                 Dana Potter             NaN\n",
      "580  988              Danielle Brown             NaN\n",
      "581  365  Mrs. Jacqueline Woodard MD             NaN\n",
      "582  229             Christie Warren             NaN\n",
      "583  492     Dr. Jacob Castaneda DVM             NaN\n",
      "\n",
      "[584 rows x 3 columns]\n"
     ]
    }
   ],
   "source": [
    "# Task 46: Merge the dataset with another dataset that includes additional information about employee ID and recent Projects\n",
    "print(\"\\n# Task 46: Merge with dataset containing Employee ID and Projects\")\n",
    "project_data = {\n",
    "    'ID': [1, 2, 3, 4, 5],\n",
    "    'Recent Projects': ['Project A', 'Project B', 'Project C', 'Project D', 'Project E']\n",
    "}\n",
    "project_df = pd.DataFrame(project_data)\n",
    "df_with_projects = pd.merge(df, project_df, on='ID', how='left')\n",
    "print(df_with_projects[['ID', 'Name', 'Recent Projects']])"
   ]
  },
  {
   "cell_type": "code",
   "execution_count": 54,
   "metadata": {
    "execution": {
     "iopub.execute_input": "2024-12-15T16:52:50.950541Z",
     "iopub.status.busy": "2024-12-15T16:52:50.950015Z",
     "iopub.status.idle": "2024-12-15T16:52:50.970375Z",
     "shell.execute_reply": "2024-12-15T16:52:50.968568Z",
     "shell.execute_reply.started": "2024-12-15T16:52:50.950502Z"
    }
   },
   "outputs": [
    {
     "name": "stdout",
     "output_type": "stream",
     "text": [
      "\n",
      "# Task 47: Left join with Team Lead dataset\n",
      "      ID                        Name Department Team Lead\n",
      "0    530                  Katie Vega         HR     Alice\n",
      "1    809             Matthew Bonilla         IT   Charlie\n",
      "2    855                   Amy Heath      Sales       Bob\n",
      "3    766                 Steve Smith      Sales       Bob\n",
      "4    288               Michele Roman         HR     Alice\n",
      "..   ...                         ...        ...       ...\n",
      "579  144                 Dana Potter         IT   Charlie\n",
      "580  988              Danielle Brown         IT   Charlie\n",
      "581  365  Mrs. Jacqueline Woodard MD      Sales       Bob\n",
      "582  229             Christie Warren      Sales       Bob\n",
      "583  492     Dr. Jacob Castaneda DVM      Sales       Bob\n",
      "\n",
      "[584 rows x 4 columns]\n"
     ]
    }
   ],
   "source": [
    "# Task 47: Perform a left join with a dataset containing Department and Team Lead details, adding Team Lead to the DataFrame\n",
    "print(\"\\n# Task 47: Left join with Team Lead dataset\")\n",
    "team_lead_data = {\n",
    "    'Department': ['HR', 'Sales', 'IT'],\n",
    "    'Team Lead': ['Alice', 'Bob', 'Charlie']\n",
    "}\n",
    "team_lead_df = pd.DataFrame(team_lead_data)\n",
    "df_with_team_lead = pd.merge(df, team_lead_df, on='Department', how='left')\n",
    "print(df_with_team_lead[['ID', 'Name', 'Department', 'Team Lead']])\n"
   ]
  },
  {
   "cell_type": "code",
   "execution_count": 55,
   "metadata": {
    "execution": {
     "iopub.execute_input": "2024-12-15T16:53:07.063683Z",
     "iopub.status.busy": "2024-12-15T16:53:07.063189Z",
     "iopub.status.idle": "2024-12-15T16:53:07.084933Z",
     "shell.execute_reply": "2024-12-15T16:53:07.083193Z",
     "shell.execute_reply.started": "2024-12-15T16:53:07.063645Z"
    }
   },
   "outputs": [
    {
     "name": "stdout",
     "output_type": "stream",
     "text": [
      "\n",
      "# Task 48: Merge with Project Count DataFrame and calculate average Salary per project\n",
      "      ID                        Name  Project Count  \\\n",
      "0    530                  Katie Vega            NaN   \n",
      "1    809             Matthew Bonilla            NaN   \n",
      "2    855                   Amy Heath            NaN   \n",
      "3    766                 Steve Smith            NaN   \n",
      "4    288               Michele Roman            NaN   \n",
      "..   ...                         ...            ...   \n",
      "579  144                 Dana Potter            NaN   \n",
      "580  988              Danielle Brown            NaN   \n",
      "581  365  Mrs. Jacqueline Woodard MD            NaN   \n",
      "582  229             Christie Warren            NaN   \n",
      "583  492     Dr. Jacob Castaneda DVM            NaN   \n",
      "\n",
      "     Average Salary per Project  \n",
      "0                           NaN  \n",
      "1                           NaN  \n",
      "2                           NaN  \n",
      "3                           NaN  \n",
      "4                           NaN  \n",
      "..                          ...  \n",
      "579                         NaN  \n",
      "580                         NaN  \n",
      "581                         NaN  \n",
      "582                         NaN  \n",
      "583                         NaN  \n",
      "\n",
      "[584 rows x 4 columns]\n"
     ]
    }
   ],
   "source": [
    "# Task 48: Create a DataFrame with employee ID and Project Count, then merge it with the original dataset. Calculate the average Salary per project\n",
    "print(\"\\n# Task 48: Merge with Project Count DataFrame and calculate average Salary per project\")\n",
    "project_count_data = {\n",
    "    'ID': [1, 2, 3, 4, 5],\n",
    "    'Project Count': [3, 2, 1, 4, 5]\n",
    "}\n",
    "project_count_df = pd.DataFrame(project_count_data)\n",
    "df_with_project_count = pd.merge(df, project_count_df, on='ID', how='left')\n",
    "df_with_project_count['Average Salary per Project'] = df_with_project_count['Salary'] / df_with_project_count['Project Count']\n",
    "print(df_with_project_count[['ID', 'Name', 'Project Count', 'Average Salary per Project']])\n"
   ]
  },
  {
   "cell_type": "code",
   "execution_count": 56,
   "metadata": {
    "execution": {
     "iopub.execute_input": "2024-12-15T16:53:26.061044Z",
     "iopub.status.busy": "2024-12-15T16:53:26.060532Z",
     "iopub.status.idle": "2024-12-15T16:53:26.078870Z",
     "shell.execute_reply": "2024-12-15T16:53:26.076968Z",
     "shell.execute_reply.started": "2024-12-15T16:53:26.060977Z"
    }
   },
   "outputs": [
    {
     "name": "stdout",
     "output_type": "stream",
     "text": [
      "\n",
      "# Task 49: Calculate percentage increase in Salary compared to average Salary in their Department\n",
      "      ID                        Name Department  Salary  \\\n",
      "529  530                  Katie Vega         HR    7002   \n",
      "808  809             Matthew Bonilla         IT    9092   \n",
      "854  855                   Amy Heath      Sales    6897   \n",
      "765  766                 Steve Smith      Sales    3414   \n",
      "287  288               Michele Roman         HR    3162   \n",
      "..   ...                         ...        ...     ...   \n",
      "143  144                 Dana Potter         IT    6368   \n",
      "987  988              Danielle Brown         IT    5605   \n",
      "364  365  Mrs. Jacqueline Woodard MD      Sales    5988   \n",
      "228  229             Christie Warren      Sales    9139   \n",
      "491  492     Dr. Jacob Castaneda DVM      Sales    9181   \n",
      "\n",
      "     Salary Percentage Increase  \n",
      "529                   17.565083  \n",
      "808                   54.021064  \n",
      "854                   18.034960  \n",
      "765                  -41.572951  \n",
      "287                  -46.909341  \n",
      "..                          ...  \n",
      "143                    7.875730  \n",
      "987                   -5.049707  \n",
      "364                    2.478373  \n",
      "228                   56.404451  \n",
      "491                   57.123238  \n",
      "\n",
      "[584 rows x 5 columns]\n"
     ]
    }
   ],
   "source": [
    "# Task 49: Calculate the percentage increase in Salary for each employee compared to the average Salary in their Department\n",
    "print(\"\\n# Task 49: Calculate percentage increase in Salary compared to average Salary in their Department\")\n",
    "department_avg_salary = df.groupby('Department')['Salary'].transform('mean')\n",
    "df['Salary Percentage Increase'] = ((df['Salary'] - department_avg_salary) / department_avg_salary) * 100\n",
    "print(df[['ID', 'Name', 'Department', 'Salary', 'Salary Percentage Increase']])"
   ]
  },
  {
   "cell_type": "code",
   "execution_count": 57,
   "metadata": {
    "execution": {
     "iopub.execute_input": "2024-12-15T16:53:41.840967Z",
     "iopub.status.busy": "2024-12-15T16:53:41.840521Z",
     "iopub.status.idle": "2024-12-15T16:53:41.847814Z",
     "shell.execute_reply": "2024-12-15T16:53:41.846437Z",
     "shell.execute_reply.started": "2024-12-15T16:53:41.840933Z"
    }
   },
   "outputs": [
    {
     "name": "stdout",
     "output_type": "stream",
     "text": [
      "\n",
      "# Task 50: Print 'Thanks'\n",
      "Thanks\n"
     ]
    }
   ],
   "source": [
    "# Task 50: Print \"Thanks\"\n",
    "print(\"\\n# Task 50: Print 'Thanks'\")\n",
    "print(\"Thanks\")"
   ]
  },
  {
   "cell_type": "code",
   "execution_count": null,
   "metadata": {},
   "outputs": [],
   "source": []
  },
  {
   "cell_type": "code",
   "execution_count": null,
   "metadata": {},
   "outputs": [],
   "source": []
  }
 ],
 "metadata": {
  "kaggle": {
   "accelerator": "none",
   "dataSources": [
    {
     "datasetId": 6273583,
     "sourceId": 10160144,
     "sourceType": "datasetVersion"
    }
   ],
   "dockerImageVersionId": 30804,
   "isGpuEnabled": false,
   "isInternetEnabled": false,
   "language": "python",
   "sourceType": "notebook"
  },
  "kernelspec": {
   "display_name": "Python 3 (ipykernel)",
   "language": "python",
   "name": "python3"
  },
  "language_info": {
   "codemirror_mode": {
    "name": "ipython",
    "version": 3
   },
   "file_extension": ".py",
   "mimetype": "text/x-python",
   "name": "python",
   "nbconvert_exporter": "python",
   "pygments_lexer": "ipython3",
   "version": "3.9.13"
  }
 },
 "nbformat": 4,
 "nbformat_minor": 4
}
