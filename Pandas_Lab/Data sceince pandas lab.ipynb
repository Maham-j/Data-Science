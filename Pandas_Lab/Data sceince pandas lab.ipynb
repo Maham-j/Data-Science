{   
 "cells": [ 
  {
   "cell_type": "markdown",   
   "id": "cf1067cf",
   "metadata": {},
   "source": [
    "# Task 01" 
   ]
  },
  {
   "cell_type": "code",
   "execution_count": 28,
   "id": "ec5c5128",
   "metadata": {},
   "outputs": [
    {
     "name": "stdout",
     "output_type": "stream",
     "text": [
      "      Id  SepalLengthCm  SepalWidthCm  PetalLengthCm  PetalWidthCm  \\\n",
      "0      1            5.1           3.5            1.4           0.2   \n",
      "1      2            4.9           3.0            1.4           0.2   \n",
      "2      3            4.7           3.2            1.3           0.2   \n",
      "3      4            4.6           3.1            1.5           0.2   \n",
      "4      5            5.0           3.6            1.4           0.2   \n",
      "..   ...            ...           ...            ...           ...   \n",
      "145  146            6.7           3.0            5.2           2.3   \n",
      "146  147            6.3           2.5            5.0           1.9   \n",
      "147  148            6.5           3.0            5.2           2.0   \n",
      "148  149            6.2           3.4            5.4           2.3   \n",
      "149  150            5.9           3.0            5.1           1.8   \n",
      "\n",
      "            Species  \n",
      "0       Iris-setosa  \n",
      "1       Iris-setosa  \n",
      "2       Iris-setosa  \n",
      "3       Iris-setosa  \n",
      "4       Iris-setosa  \n",
      "..              ...  \n",
      "145  Iris-virginica  \n",
      "146  Iris-virginica  \n",
      "147  Iris-virginica  \n",
      "148  Iris-virginica  \n",
      "149  Iris-virginica  \n",
      "\n",
      "[150 rows x 6 columns]\n"
     ]
    },
    {
     "data": {
      "text/plain": [
       "Id               0\n",
       "SepalLengthCm    0\n",
       "SepalWidthCm     0\n",
       "PetalLengthCm    0\n",
       "PetalWidthCm     0\n",
       "Species          0\n",
       "dtype: int64"
      ]
     },
     "execution_count": 28,
     "metadata": {},
     "output_type": "execute_result"
    }
   ],
   "source": [
    "import pandas as pd\n",
    "df = pd.read_csv('Iris.csv')\n",
    "print(df)\n",
    "\n",
    "\n",
    "df.isna().sum()\n"
   ]
  },
  {
   "cell_type": "markdown",
   "id": "b0ca55f8",
   "metadata": {},
   "source": [
    "# Task 02"
   ]
  },
  {
   "cell_type": "code",
   "execution_count": 12,
   "id": "3d7a6f65",
   "metadata": {},
   "outputs": [
    {
     "name": "stdout",
     "output_type": "stream",
     "text": [
      "      Id  SepalLengthCm  SepalWidthCm  PetalLengthCm  PetalWidthCm  \\\n",
      "0      1            5.1           3.5            1.4           0.2   \n",
      "1      2            4.9           3.0            1.4           0.2   \n",
      "2      3            4.7           3.2            1.3           0.2   \n",
      "3      4            4.6           3.1            1.5           0.2   \n",
      "4      5            5.0           3.6            1.4           0.2   \n",
      "..   ...            ...           ...            ...           ...   \n",
      "145  146            6.7           3.0            5.2           2.3   \n",
      "146  147            6.3           2.5            5.0           1.9   \n",
      "147  148            6.5           3.0            5.2           2.0   \n",
      "148  149            6.2           3.4            5.4           2.3   \n",
      "149  150            5.9           3.0            5.1           1.8   \n",
      "\n",
      "            Species  \n",
      "0       Iris-setosa  \n",
      "1       Iris-setosa  \n",
      "2       Iris-setosa  \n",
      "3       Iris-setosa  \n",
      "4       Iris-setosa  \n",
      "..              ...  \n",
      "145  Iris-virginica  \n",
      "146  Iris-virginica  \n",
      "147  Iris-virginica  \n",
      "148  Iris-virginica  \n",
      "149  Iris-virginica  \n",
      "\n",
      "[150 rows x 6 columns]\n"
     ]
    }
   ],
   "source": [
    "df= df.drop_duplicates()\n",
    "print(df)"
   ]
  },
  {
   "cell_type": "code",
   "execution_count": 18,
   "id": "14a31635",
   "metadata": {},
   "outputs": [
    {
     "name": "stdout",
     "output_type": "stream",
     "text": [
      "0       0.28\n",
      "1       0.28\n",
      "2       0.26\n",
      "3       0.30\n",
      "4       0.28\n",
      "       ...  \n",
      "145    11.96\n",
      "146     9.50\n",
      "147    10.40\n",
      "148    12.42\n",
      "149     9.18\n",
      "Name: petal_area, Length: 150, dtype: float64\n",
      "      Id  SepalLengthCm  SepalWidthCm  PetalLengthCm  PetalWidthCm  \\\n",
      "0      1            5.1           3.5            1.4           0.2   \n",
      "1      2            4.9           3.0            1.4           0.2   \n",
      "2      3            4.7           3.2            1.3           0.2   \n",
      "3      4            4.6           3.1            1.5           0.2   \n",
      "4      5            5.0           3.6            1.4           0.2   \n",
      "..   ...            ...           ...            ...           ...   \n",
      "145  146            6.7           3.0            5.2           2.3   \n",
      "146  147            6.3           2.5            5.0           1.9   \n",
      "147  148            6.5           3.0            5.2           2.0   \n",
      "148  149            6.2           3.4            5.4           2.3   \n",
      "149  150            5.9           3.0            5.1           1.8   \n",
      "\n",
      "            Species  petal_area  \n",
      "0       Iris-setosa        0.28  \n",
      "1       Iris-setosa        0.28  \n",
      "2       Iris-setosa        0.26  \n",
      "3       Iris-setosa        0.30  \n",
      "4       Iris-setosa        0.28  \n",
      "..              ...         ...  \n",
      "145  Iris-virginica       11.96  \n",
      "146  Iris-virginica        9.50  \n",
      "147  Iris-virginica       10.40  \n",
      "148  Iris-virginica       12.42  \n",
      "149  Iris-virginica        9.18  \n",
      "\n",
      "[150 rows x 7 columns]\n"
     ]
    }
   ],
   "source": [
    "#new column\n",
    "df['petal_area'] = df['PetalLengthCm'] * df['PetalWidthCm']\n",
    "print(df['petal_area'])\n",
    "\n",
    "#drop\n",
    "df = df.dropna()\n",
    "print(df)\n"
   ]
  },
  {
   "cell_type": "markdown",
   "id": "bebf2612",
   "metadata": {},
   "source": [
    "# Task 03"
   ]
  },
  {
   "cell_type": "code",
   "execution_count": 19,
   "id": "7a55cac1",
   "metadata": {},
   "outputs": [
    {
     "name": "stdout",
     "output_type": "stream",
     "text": [
      "0      0\n",
      "1      0\n",
      "2      0\n",
      "3      0\n",
      "4      0\n",
      "      ..\n",
      "145    2\n",
      "146    2\n",
      "147    2\n",
      "148    2\n",
      "149    2\n",
      "Name: specie_code, Length: 150, dtype: int8\n"
     ]
    }
   ],
   "source": [
    "df['specie_code'] = pd.Categorical(df['Species']).codes\n",
    "print(df['specie_code'])"
   ]
  },
  {
   "cell_type": "code",
   "execution_count": 24,
   "id": "e9dff3eb",
   "metadata": {},
   "outputs": [
    {
     "name": "stdout",
     "output_type": "stream",
     "text": [
      "                 SepalLengthCm  SepalWidthCm  PetalLengthCm  PetalWidthCm\n",
      "Species                                                                  \n",
      "Iris-setosa              5.006         3.418          1.464         0.244\n",
      "Iris-versicolor          5.936         2.770          4.260         1.326\n",
      "Iris-virginica           6.588         2.974          5.552         2.026\n"
     ]
    }
   ],
   "source": [
    "aggregated_column = df.groupby('Species')[['SepalLengthCm',  'SepalWidthCm',  'PetalLengthCm',  'PetalWidthCm']].mean()\n",
    "print(aggregated_column)"
   ]
  },
  {
   "cell_type": "markdown",
   "id": "1ad49224",
   "metadata": {},
   "source": [
    "# Task 04"
   ]
  },
  {
   "cell_type": "code",
   "execution_count": 27,
   "id": "ebbbae8c",
   "metadata": {},
   "outputs": [
    {
     "name": "stdout",
     "output_type": "stream",
     "text": [
      "            Species measurement_type  measurement_value\n",
      "0       Iris-setosa    SepalLengthCm                5.1\n",
      "1       Iris-setosa    SepalLengthCm                4.9\n",
      "2       Iris-setosa    SepalLengthCm                4.7\n",
      "3       Iris-setosa    SepalLengthCm                4.6\n",
      "4       Iris-setosa    SepalLengthCm                5.0\n",
      "..              ...              ...                ...\n",
      "595  Iris-virginica     PetalWidthCm                2.3\n",
      "596  Iris-virginica     PetalWidthCm                1.9\n",
      "597  Iris-virginica     PetalWidthCm                2.0\n",
      "598  Iris-virginica     PetalWidthCm                2.3\n",
      "599  Iris-virginica     PetalWidthCm                1.8\n",
      "\n",
      "[600 rows x 3 columns]\n"
     ]
    }
   ],
   "source": [
    "reshaped_df = pd.melt(df,id_vars=['Species'],value_vars= ['SepalLengthCm',  'SepalWidthCm',  'PetalLengthCm',  'PetalWidthCm'],\n",
    "                     var_name='measurement_type', value_name = 'measurement_value')\n",
    "print(reshaped_df)"
   ]
  },
  {
   "cell_type": "code",
   "execution_count": null,
   "id": "7ab01540",
   "metadata": {},
   "outputs": [],
   "source": []
  }
 ],
 "metadata": {
  "kernelspec": {
   "display_name": "Python 3 (ipykernel)",
   "language": "python",
   "name": "python3"
  },
  "language_info": {
   "codemirror_mode": {
    "name": "ipython",
    "version": 3
   },
   "file_extension": ".py",
   "mimetype": "text/x-python",
   "name": "python",
   "nbconvert_exporter": "python",
   "pygments_lexer": "ipython3",
   "version": "3.9.13"
  }
 },
 "nbformat": 4,
 "nbformat_minor": 5
}
